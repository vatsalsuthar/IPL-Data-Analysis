{
  "nbformat": 4,
  "nbformat_minor": 0,
  "metadata": {
    "kernelspec": {
      "display_name": "Python 3",
      "language": "python",
      "name": "python3"
    },
    "language_info": {
      "codemirror_mode": {
        "name": "ipython",
        "version": 3
      },
      "file_extension": ".py",
      "mimetype": "text/x-python",
      "name": "python",
      "nbconvert_exporter": "python",
      "pygments_lexer": "ipython3",
      "version": "3.8.3"
    },
    "colab": {
      "name": "IPL Data Analysis.ipynb",
      "provenance": []
    }
  },
  "cells": [
    {
      "cell_type": "markdown",
      "metadata": {
        "id": "pDOrcLIViGbx"
      },
      "source": [
        "Data Analysis with IPL match-by-match dataset from the seasons 2008 to 2020.\n",
        "\n",
        "Dataset has been downloaded from Kaggle and it can be found here: https://www.kaggle.com/patrickb1912/ipl-complete-dataset-20082020.\n",
        "\n",
        "The dataset contains two files: deliveries.csv and matches.csv. The file used for this analysis is matches.csv.\n",
        "\n",
        "Things analysed:\n",
        "\n",
        "i) Match won by the maximum margin of runs.\n",
        "\n",
        "ii) Match won by maximum wickets.\n",
        "\n",
        "iii) Match won by the minimum margin of runs.\n",
        "\n",
        "iv) Match won by minimum wickets.\n",
        "\n",
        "v) Matches where D/L method was and wasn't applied.\n",
        "\n",
        "vi) No. of matches held in each city.\n",
        "\n",
        "vii) No. of matches won by each team.\n",
        "\n",
        "viii) No. of matches held every season.\n",
        "\n",
        "ix) Top 10 players based on no. of Man of Match (ManOfMatch) awards won.\n",
        "\n",
        "x) Does winning the toss mean winning the match?\n",
        "\n",
        "xi) What was the decision taken by captains when they won the toss?\n",
        "\n",
        "xii) No. of matches where D/L method was applied every season.\n",
        "\n",
        "xiii) Different results for matches.\n",
        "\n",
        "xiv) How many times did a team win the toss?\n",
        "\n",
        "xv) Best venue for defending and chasing a total.\n",
        "\n",
        "xvi) Best defending and chasing teams.\n",
        "\n",
        "xvii) No. of matches played in different stadiums."
      ]
    },
    {
      "cell_type": "code",
      "metadata": {
        "id": "SXZPs-BLiGb8"
      },
      "source": [
        "import numpy as np\n",
        "import pandas as pd\n",
        "import matplotlib.pyplot as plt\n",
        "import seaborn as sns\n",
        "plt.rcParams['figure.figsize'] = (14, 8)"
      ],
      "execution_count": null,
      "outputs": []
    },
    {
      "cell_type": "code",
      "metadata": {
        "id": "Sse15jiSiGb_"
      },
      "source": [
        "matches=pd.read_csv('IPL Matches.csv')"
      ],
      "execution_count": null,
      "outputs": []
    },
    {
      "cell_type": "code",
      "metadata": {
        "scrolled": true,
        "id": "bWO9T5HyiGcB",
        "outputId": "c06d5b16-24c7-4094-805e-6853648d3241"
      },
      "source": [
        "matches.head()"
      ],
      "execution_count": null,
      "outputs": [
        {
          "output_type": "execute_result",
          "data": {
            "text/html": [
              "<div>\n",
              "<style scoped>\n",
              "    .dataframe tbody tr th:only-of-type {\n",
              "        vertical-align: middle;\n",
              "    }\n",
              "\n",
              "    .dataframe tbody tr th {\n",
              "        vertical-align: top;\n",
              "    }\n",
              "\n",
              "    .dataframe thead th {\n",
              "        text-align: right;\n",
              "    }\n",
              "</style>\n",
              "<table border=\"1\" class=\"dataframe\">\n",
              "  <thead>\n",
              "    <tr style=\"text-align: right;\">\n",
              "      <th></th>\n",
              "      <th>id</th>\n",
              "      <th>city</th>\n",
              "      <th>date</th>\n",
              "      <th>player_of_match</th>\n",
              "      <th>venue</th>\n",
              "      <th>neutral_venue</th>\n",
              "      <th>team1</th>\n",
              "      <th>team2</th>\n",
              "      <th>toss_winner</th>\n",
              "      <th>toss_decision</th>\n",
              "      <th>winner</th>\n",
              "      <th>result</th>\n",
              "      <th>result_margin</th>\n",
              "      <th>eliminator</th>\n",
              "      <th>dl_applied</th>\n",
              "      <th>umpire1</th>\n",
              "      <th>umpire2</th>\n",
              "      <th>season</th>\n",
              "    </tr>\n",
              "  </thead>\n",
              "  <tbody>\n",
              "    <tr>\n",
              "      <th>0</th>\n",
              "      <td>335982</td>\n",
              "      <td>Bangalore</td>\n",
              "      <td>2008-04-18</td>\n",
              "      <td>BB McCullum</td>\n",
              "      <td>M Chinnaswamy Stadium</td>\n",
              "      <td>0</td>\n",
              "      <td>Royal Challengers Bangalore</td>\n",
              "      <td>Kolkata Knight Riders</td>\n",
              "      <td>Royal Challengers Bangalore</td>\n",
              "      <td>field</td>\n",
              "      <td>Kolkata Knight Riders</td>\n",
              "      <td>runs</td>\n",
              "      <td>140.0</td>\n",
              "      <td>N</td>\n",
              "      <td>NaN</td>\n",
              "      <td>Asad Rauf</td>\n",
              "      <td>RE Koertzen</td>\n",
              "      <td>2008</td>\n",
              "    </tr>\n",
              "    <tr>\n",
              "      <th>1</th>\n",
              "      <td>335983</td>\n",
              "      <td>Chandigarh</td>\n",
              "      <td>2008-04-19</td>\n",
              "      <td>MEK Hussey</td>\n",
              "      <td>Punjab Cricket Association Stadium, Mohali</td>\n",
              "      <td>0</td>\n",
              "      <td>Kings XI Punjab</td>\n",
              "      <td>Chennai Super Kings</td>\n",
              "      <td>Chennai Super Kings</td>\n",
              "      <td>bat</td>\n",
              "      <td>Chennai Super Kings</td>\n",
              "      <td>runs</td>\n",
              "      <td>33.0</td>\n",
              "      <td>N</td>\n",
              "      <td>NaN</td>\n",
              "      <td>MR Benson</td>\n",
              "      <td>SL Shastri</td>\n",
              "      <td>2008</td>\n",
              "    </tr>\n",
              "    <tr>\n",
              "      <th>2</th>\n",
              "      <td>335984</td>\n",
              "      <td>Delhi</td>\n",
              "      <td>2008-04-19</td>\n",
              "      <td>MF Maharoof</td>\n",
              "      <td>Feroz Shah Kotla</td>\n",
              "      <td>0</td>\n",
              "      <td>Delhi Daredevils</td>\n",
              "      <td>Rajasthan Royals</td>\n",
              "      <td>Rajasthan Royals</td>\n",
              "      <td>bat</td>\n",
              "      <td>Delhi Daredevils</td>\n",
              "      <td>wickets</td>\n",
              "      <td>9.0</td>\n",
              "      <td>N</td>\n",
              "      <td>NaN</td>\n",
              "      <td>Aleem Dar</td>\n",
              "      <td>GA Pratapkumar</td>\n",
              "      <td>2008</td>\n",
              "    </tr>\n",
              "    <tr>\n",
              "      <th>3</th>\n",
              "      <td>335985</td>\n",
              "      <td>Mumbai</td>\n",
              "      <td>2008-04-20</td>\n",
              "      <td>MV Boucher</td>\n",
              "      <td>Wankhede Stadium</td>\n",
              "      <td>0</td>\n",
              "      <td>Mumbai Indians</td>\n",
              "      <td>Royal Challengers Bangalore</td>\n",
              "      <td>Mumbai Indians</td>\n",
              "      <td>bat</td>\n",
              "      <td>Royal Challengers Bangalore</td>\n",
              "      <td>wickets</td>\n",
              "      <td>5.0</td>\n",
              "      <td>N</td>\n",
              "      <td>NaN</td>\n",
              "      <td>SJ Davis</td>\n",
              "      <td>DJ Harper</td>\n",
              "      <td>2008</td>\n",
              "    </tr>\n",
              "    <tr>\n",
              "      <th>4</th>\n",
              "      <td>335986</td>\n",
              "      <td>Kolkata</td>\n",
              "      <td>2008-04-20</td>\n",
              "      <td>DJ Hussey</td>\n",
              "      <td>Eden Gardens</td>\n",
              "      <td>0</td>\n",
              "      <td>Kolkata Knight Riders</td>\n",
              "      <td>Deccan Chargers</td>\n",
              "      <td>Deccan Chargers</td>\n",
              "      <td>bat</td>\n",
              "      <td>Kolkata Knight Riders</td>\n",
              "      <td>wickets</td>\n",
              "      <td>5.0</td>\n",
              "      <td>N</td>\n",
              "      <td>NaN</td>\n",
              "      <td>BF Bowden</td>\n",
              "      <td>K Hariharan</td>\n",
              "      <td>2008</td>\n",
              "    </tr>\n",
              "  </tbody>\n",
              "</table>\n",
              "</div>"
            ],
            "text/plain": [
              "       id        city       date player_of_match  \\\n",
              "0  335982   Bangalore 2008-04-18     BB McCullum   \n",
              "1  335983  Chandigarh 2008-04-19      MEK Hussey   \n",
              "2  335984       Delhi 2008-04-19     MF Maharoof   \n",
              "3  335985      Mumbai 2008-04-20      MV Boucher   \n",
              "4  335986     Kolkata 2008-04-20       DJ Hussey   \n",
              "\n",
              "                                        venue  neutral_venue  \\\n",
              "0                       M Chinnaswamy Stadium              0   \n",
              "1  Punjab Cricket Association Stadium, Mohali              0   \n",
              "2                            Feroz Shah Kotla              0   \n",
              "3                            Wankhede Stadium              0   \n",
              "4                                Eden Gardens              0   \n",
              "\n",
              "                         team1                        team2  \\\n",
              "0  Royal Challengers Bangalore        Kolkata Knight Riders   \n",
              "1              Kings XI Punjab          Chennai Super Kings   \n",
              "2             Delhi Daredevils             Rajasthan Royals   \n",
              "3               Mumbai Indians  Royal Challengers Bangalore   \n",
              "4        Kolkata Knight Riders              Deccan Chargers   \n",
              "\n",
              "                   toss_winner toss_decision                       winner  \\\n",
              "0  Royal Challengers Bangalore         field        Kolkata Knight Riders   \n",
              "1          Chennai Super Kings           bat          Chennai Super Kings   \n",
              "2             Rajasthan Royals           bat             Delhi Daredevils   \n",
              "3               Mumbai Indians           bat  Royal Challengers Bangalore   \n",
              "4              Deccan Chargers           bat        Kolkata Knight Riders   \n",
              "\n",
              "    result  result_margin eliminator dl_applied    umpire1         umpire2  \\\n",
              "0     runs          140.0          N        NaN  Asad Rauf     RE Koertzen   \n",
              "1     runs           33.0          N        NaN  MR Benson      SL Shastri   \n",
              "2  wickets            9.0          N        NaN  Aleem Dar  GA Pratapkumar   \n",
              "3  wickets            5.0          N        NaN   SJ Davis       DJ Harper   \n",
              "4  wickets            5.0          N        NaN  BF Bowden     K Hariharan   \n",
              "\n",
              "   season  \n",
              "0    2008  \n",
              "1    2008  \n",
              "2    2008  \n",
              "3    2008  \n",
              "4    2008  "
            ]
          },
          "metadata": {
            "tags": []
          },
          "execution_count": 44
        }
      ]
    },
    {
      "cell_type": "code",
      "metadata": {
        "id": "RzlDFghGiGcD",
        "outputId": "92330bed-5660-42f8-aacd-d3f5271be643"
      },
      "source": [
        "\n",
        "matches.describe()\n"
      ],
      "execution_count": null,
      "outputs": [
        {
          "output_type": "execute_result",
          "data": {
            "text/html": [
              "<div>\n",
              "<style scoped>\n",
              "    .dataframe tbody tr th:only-of-type {\n",
              "        vertical-align: middle;\n",
              "    }\n",
              "\n",
              "    .dataframe tbody tr th {\n",
              "        vertical-align: top;\n",
              "    }\n",
              "\n",
              "    .dataframe thead th {\n",
              "        text-align: right;\n",
              "    }\n",
              "</style>\n",
              "<table border=\"1\" class=\"dataframe\">\n",
              "  <thead>\n",
              "    <tr style=\"text-align: right;\">\n",
              "      <th></th>\n",
              "      <th>id</th>\n",
              "      <th>neutral_venue</th>\n",
              "      <th>result_margin</th>\n",
              "    </tr>\n",
              "  </thead>\n",
              "  <tbody>\n",
              "    <tr>\n",
              "      <th>count</th>\n",
              "      <td>8.160000e+02</td>\n",
              "      <td>816.000000</td>\n",
              "      <td>799.000000</td>\n",
              "    </tr>\n",
              "    <tr>\n",
              "      <th>mean</th>\n",
              "      <td>7.563496e+05</td>\n",
              "      <td>0.094363</td>\n",
              "      <td>17.321652</td>\n",
              "    </tr>\n",
              "    <tr>\n",
              "      <th>std</th>\n",
              "      <td>3.058943e+05</td>\n",
              "      <td>0.292512</td>\n",
              "      <td>22.068427</td>\n",
              "    </tr>\n",
              "    <tr>\n",
              "      <th>min</th>\n",
              "      <td>3.359820e+05</td>\n",
              "      <td>0.000000</td>\n",
              "      <td>1.000000</td>\n",
              "    </tr>\n",
              "    <tr>\n",
              "      <th>25%</th>\n",
              "      <td>5.012278e+05</td>\n",
              "      <td>0.000000</td>\n",
              "      <td>6.000000</td>\n",
              "    </tr>\n",
              "    <tr>\n",
              "      <th>50%</th>\n",
              "      <td>7.292980e+05</td>\n",
              "      <td>0.000000</td>\n",
              "      <td>8.000000</td>\n",
              "    </tr>\n",
              "    <tr>\n",
              "      <th>75%</th>\n",
              "      <td>1.082626e+06</td>\n",
              "      <td>0.000000</td>\n",
              "      <td>19.500000</td>\n",
              "    </tr>\n",
              "    <tr>\n",
              "      <th>max</th>\n",
              "      <td>1.237181e+06</td>\n",
              "      <td>1.000000</td>\n",
              "      <td>146.000000</td>\n",
              "    </tr>\n",
              "  </tbody>\n",
              "</table>\n",
              "</div>"
            ],
            "text/plain": [
              "                 id  neutral_venue  result_margin\n",
              "count  8.160000e+02     816.000000     799.000000\n",
              "mean   7.563496e+05       0.094363      17.321652\n",
              "std    3.058943e+05       0.292512      22.068427\n",
              "min    3.359820e+05       0.000000       1.000000\n",
              "25%    5.012278e+05       0.000000       6.000000\n",
              "50%    7.292980e+05       0.000000       8.000000\n",
              "75%    1.082626e+06       0.000000      19.500000\n",
              "max    1.237181e+06       1.000000     146.000000"
            ]
          },
          "metadata": {
            "tags": []
          },
          "execution_count": 4
        }
      ]
    },
    {
      "cell_type": "code",
      "metadata": {
        "id": "XMCni-jUiGcF",
        "outputId": "bdb062b2-0d95-4643-ffa1-11b591f29b17"
      },
      "source": [
        "matches.info()"
      ],
      "execution_count": null,
      "outputs": [
        {
          "output_type": "stream",
          "text": [
            "<class 'pandas.core.frame.DataFrame'>\n",
            "RangeIndex: 816 entries, 0 to 815\n",
            "Data columns (total 17 columns):\n",
            " #   Column           Non-Null Count  Dtype  \n",
            "---  ------           --------------  -----  \n",
            " 0   id               816 non-null    int64  \n",
            " 1   city             803 non-null    object \n",
            " 2   date             816 non-null    object \n",
            " 3   player_of_match  812 non-null    object \n",
            " 4   venue            816 non-null    object \n",
            " 5   neutral_venue    816 non-null    int64  \n",
            " 6   team1            816 non-null    object \n",
            " 7   team2            816 non-null    object \n",
            " 8   toss_winner      816 non-null    object \n",
            " 9   toss_decision    816 non-null    object \n",
            " 10  winner           812 non-null    object \n",
            " 11  result           812 non-null    object \n",
            " 12  result_margin    799 non-null    float64\n",
            " 13  eliminator       812 non-null    object \n",
            " 14  method           19 non-null     object \n",
            " 15  umpire1          816 non-null    object \n",
            " 16  umpire2          816 non-null    object \n",
            "dtypes: float64(1), int64(2), object(14)\n",
            "memory usage: 108.5+ KB\n"
          ],
          "name": "stdout"
        }
      ]
    },
    {
      "cell_type": "code",
      "metadata": {
        "id": "PhI_StKgiGcI",
        "outputId": "fcd8c321-dacb-49d9-d371-eec597afdc6a"
      },
      "source": [
        "\n",
        "matches['method'].unique()"
      ],
      "execution_count": null,
      "outputs": [
        {
          "output_type": "execute_result",
          "data": {
            "text/plain": [
              "array([nan, 'D/L'], dtype=object)"
            ]
          },
          "metadata": {
            "tags": []
          },
          "execution_count": 6
        }
      ]
    },
    {
      "cell_type": "code",
      "metadata": {
        "id": "32xDhyZFiGcJ"
      },
      "source": [
        "\n",
        "matches = matches.rename(columns={'method' : 'dl_applied'})\n",
        "\n",
        "matches.fillna(0)\n",
        "\n",
        "matches['date'] = pd.to_datetime(matches['date'])\n",
        "\n",
        "matches['season'] = matches['date'].dt.year"
      ],
      "execution_count": null,
      "outputs": []
    },
    {
      "cell_type": "code",
      "metadata": {
        "id": "VVOvUBsniGcK",
        "outputId": "9a0f0532-e882-48c4-bdfb-a3d837aaed9f"
      },
      "source": [
        "matches['season'].unique()"
      ],
      "execution_count": null,
      "outputs": [
        {
          "output_type": "execute_result",
          "data": {
            "text/plain": [
              "array([2008, 2009, 2010, 2011, 2012, 2013, 2014, 2015, 2016, 2017, 2018,\n",
              "       2019, 2020], dtype=int64)"
            ]
          },
          "metadata": {
            "tags": []
          },
          "execution_count": 67
        }
      ]
    },
    {
      "cell_type": "code",
      "metadata": {
        "id": "bntHwQ-ziGcN",
        "outputId": "f43378d5-f179-4dea-82b2-48ce6afb9c1f"
      },
      "source": [
        "matches['result'].count()"
      ],
      "execution_count": null,
      "outputs": [
        {
          "output_type": "execute_result",
          "data": {
            "text/plain": [
              "812"
            ]
          },
          "metadata": {
            "tags": []
          },
          "execution_count": 68
        }
      ]
    },
    {
      "cell_type": "code",
      "metadata": {
        "id": "TQFkcKWviGcO",
        "outputId": "c67300a4-9ad0-4080-c77a-dacbd37ae77c"
      },
      "source": [
        "matches['result'].value_counts()"
      ],
      "execution_count": null,
      "outputs": [
        {
          "output_type": "execute_result",
          "data": {
            "text/plain": [
              "wickets    435\n",
              "runs       364\n",
              "tie         13\n",
              "Name: result, dtype: int64"
            ]
          },
          "metadata": {
            "tags": []
          },
          "execution_count": 69
        }
      ]
    },
    {
      "cell_type": "code",
      "metadata": {
        "id": "VR8hqkNMiGcQ",
        "outputId": "ea9175ee-c324-4d31-f32d-e136f242102b"
      },
      "source": [
        "sns.countplot(x=matches['result'], data=matches)\n",
        "plt.title('Match Decision\\n')\n",
        "plt.xlabel('\\nWon By')\n",
        "plt.ylabel('No. of matches \\n')\n",
        "plt.show()"
      ],
      "execution_count": null,
      "outputs": [
        {
          "output_type": "display_data",
          "data": {
            "image/png": "[encoded data removed]",
            "text/plain": [
              "<Figure size 720x432 with 1 Axes>"
            ]
          },
          "metadata": {
            "tags": [],
            "needs_background": "light"
          }
        }
      ]
    },
    {
      "cell_type": "code",
      "metadata": {
        "id": "PjxzISlhiGcR",
        "outputId": "e0049d1c-cb26-499f-81d0-2de6900c2b4d"
      },
      "source": [
        "#Max margin for winning a match\n",
        "max(matches['result_margin'])"
      ],
      "execution_count": null,
      "outputs": [
        {
          "output_type": "execute_result",
          "data": {
            "text/plain": [
              "146.0"
            ]
          },
          "metadata": {
            "tags": []
          },
          "execution_count": 12
        }
      ]
    },
    {
      "cell_type": "code",
      "metadata": {
        "id": "cnFy3fBNiGcS",
        "outputId": "3ad8e102-1b25-4305-c984-64839c22afcd"
      },
      "source": [
        "# Matches won by more than 120 runs \n",
        "label1 = matches[(matches['result']=='runs') & (matches['result_margin']>=120)].index.tolist()\n",
        "\n",
        "matches.iloc[label1]"
      ],
      "execution_count": null,
      "outputs": [
        {
          "output_type": "execute_result",
          "data": {
            "text/html": [
              "<div>\n",
              "<style scoped>\n",
              "    .dataframe tbody tr th:only-of-type {\n",
              "        vertical-align: middle;\n",
              "    }\n",
              "\n",
              "    .dataframe tbody tr th {\n",
              "        vertical-align: top;\n",
              "    }\n",
              "\n",
              "    .dataframe thead th {\n",
              "        text-align: right;\n",
              "    }\n",
              "</style>\n",
              "<table border=\"1\" class=\"dataframe\">\n",
              "  <thead>\n",
              "    <tr style=\"text-align: right;\">\n",
              "      <th></th>\n",
              "      <th>id</th>\n",
              "      <th>city</th>\n",
              "      <th>date</th>\n",
              "      <th>player_of_match</th>\n",
              "      <th>venue</th>\n",
              "      <th>neutral_venue</th>\n",
              "      <th>team1</th>\n",
              "      <th>team2</th>\n",
              "      <th>toss_winner</th>\n",
              "      <th>toss_decision</th>\n",
              "      <th>winner</th>\n",
              "      <th>result</th>\n",
              "      <th>result_margin</th>\n",
              "      <th>eliminator</th>\n",
              "      <th>dl_applied</th>\n",
              "      <th>umpire1</th>\n",
              "      <th>umpire2</th>\n",
              "      <th>season</th>\n",
              "    </tr>\n",
              "  </thead>\n",
              "  <tbody>\n",
              "    <tr>\n",
              "      <th>0</th>\n",
              "      <td>335982</td>\n",
              "      <td>Bangalore</td>\n",
              "      <td>2008-04-18</td>\n",
              "      <td>BB McCullum</td>\n",
              "      <td>M Chinnaswamy Stadium</td>\n",
              "      <td>0</td>\n",
              "      <td>Royal Challengers Bangalore</td>\n",
              "      <td>Kolkata Knight Riders</td>\n",
              "      <td>Royal Challengers Bangalore</td>\n",
              "      <td>field</td>\n",
              "      <td>Kolkata Knight Riders</td>\n",
              "      <td>runs</td>\n",
              "      <td>140.0</td>\n",
              "      <td>N</td>\n",
              "      <td>NaN</td>\n",
              "      <td>Asad Rauf</td>\n",
              "      <td>RE Koertzen</td>\n",
              "      <td>2008</td>\n",
              "    </tr>\n",
              "    <tr>\n",
              "      <th>351</th>\n",
              "      <td>598027</td>\n",
              "      <td>Bangalore</td>\n",
              "      <td>2013-04-23</td>\n",
              "      <td>CH Gayle</td>\n",
              "      <td>M Chinnaswamy Stadium</td>\n",
              "      <td>0</td>\n",
              "      <td>Royal Challengers Bangalore</td>\n",
              "      <td>Pune Warriors</td>\n",
              "      <td>Pune Warriors</td>\n",
              "      <td>field</td>\n",
              "      <td>Royal Challengers Bangalore</td>\n",
              "      <td>runs</td>\n",
              "      <td>130.0</td>\n",
              "      <td>N</td>\n",
              "      <td>NaN</td>\n",
              "      <td>Aleem Dar</td>\n",
              "      <td>C Shamshuddin</td>\n",
              "      <td>2013</td>\n",
              "    </tr>\n",
              "    <tr>\n",
              "      <th>497</th>\n",
              "      <td>829785</td>\n",
              "      <td>Bangalore</td>\n",
              "      <td>2015-05-06</td>\n",
              "      <td>CH Gayle</td>\n",
              "      <td>M Chinnaswamy Stadium</td>\n",
              "      <td>0</td>\n",
              "      <td>Royal Challengers Bangalore</td>\n",
              "      <td>Kings XI Punjab</td>\n",
              "      <td>Kings XI Punjab</td>\n",
              "      <td>field</td>\n",
              "      <td>Royal Challengers Bangalore</td>\n",
              "      <td>runs</td>\n",
              "      <td>138.0</td>\n",
              "      <td>N</td>\n",
              "      <td>NaN</td>\n",
              "      <td>RK Illingworth</td>\n",
              "      <td>VA Kulkarni</td>\n",
              "      <td>2015</td>\n",
              "    </tr>\n",
              "    <tr>\n",
              "      <th>560</th>\n",
              "      <td>980987</td>\n",
              "      <td>Bangalore</td>\n",
              "      <td>2016-05-14</td>\n",
              "      <td>AB de Villiers</td>\n",
              "      <td>M Chinnaswamy Stadium</td>\n",
              "      <td>0</td>\n",
              "      <td>Royal Challengers Bangalore</td>\n",
              "      <td>Gujarat Lions</td>\n",
              "      <td>Gujarat Lions</td>\n",
              "      <td>field</td>\n",
              "      <td>Royal Challengers Bangalore</td>\n",
              "      <td>runs</td>\n",
              "      <td>144.0</td>\n",
              "      <td>N</td>\n",
              "      <td>NaN</td>\n",
              "      <td>AY Dandekar</td>\n",
              "      <td>VK Sharma</td>\n",
              "      <td>2016</td>\n",
              "    </tr>\n",
              "    <tr>\n",
              "      <th>620</th>\n",
              "      <td>1082635</td>\n",
              "      <td>Delhi</td>\n",
              "      <td>2017-05-06</td>\n",
              "      <td>LMP Simmons</td>\n",
              "      <td>Feroz Shah Kotla</td>\n",
              "      <td>0</td>\n",
              "      <td>Delhi Daredevils</td>\n",
              "      <td>Mumbai Indians</td>\n",
              "      <td>Delhi Daredevils</td>\n",
              "      <td>field</td>\n",
              "      <td>Mumbai Indians</td>\n",
              "      <td>runs</td>\n",
              "      <td>146.0</td>\n",
              "      <td>N</td>\n",
              "      <td>NaN</td>\n",
              "      <td>Nitin Menon</td>\n",
              "      <td>CK Nandan</td>\n",
              "      <td>2017</td>\n",
              "    </tr>\n",
              "  </tbody>\n",
              "</table>\n",
              "</div>"
            ],
            "text/plain": [
              "          id       city       date player_of_match                  venue  \\\n",
              "0     335982  Bangalore 2008-04-18     BB McCullum  M Chinnaswamy Stadium   \n",
              "351   598027  Bangalore 2013-04-23        CH Gayle  M Chinnaswamy Stadium   \n",
              "497   829785  Bangalore 2015-05-06        CH Gayle  M Chinnaswamy Stadium   \n",
              "560   980987  Bangalore 2016-05-14  AB de Villiers  M Chinnaswamy Stadium   \n",
              "620  1082635      Delhi 2017-05-06     LMP Simmons       Feroz Shah Kotla   \n",
              "\n",
              "     neutral_venue                        team1                  team2  \\\n",
              "0                0  Royal Challengers Bangalore  Kolkata Knight Riders   \n",
              "351              0  Royal Challengers Bangalore          Pune Warriors   \n",
              "497              0  Royal Challengers Bangalore        Kings XI Punjab   \n",
              "560              0  Royal Challengers Bangalore          Gujarat Lions   \n",
              "620              0             Delhi Daredevils         Mumbai Indians   \n",
              "\n",
              "                     toss_winner toss_decision                       winner  \\\n",
              "0    Royal Challengers Bangalore         field        Kolkata Knight Riders   \n",
              "351                Pune Warriors         field  Royal Challengers Bangalore   \n",
              "497              Kings XI Punjab         field  Royal Challengers Bangalore   \n",
              "560                Gujarat Lions         field  Royal Challengers Bangalore   \n",
              "620             Delhi Daredevils         field               Mumbai Indians   \n",
              "\n",
              "    result  result_margin eliminator dl_applied         umpire1  \\\n",
              "0     runs          140.0          N        NaN       Asad Rauf   \n",
              "351   runs          130.0          N        NaN       Aleem Dar   \n",
              "497   runs          138.0          N        NaN  RK Illingworth   \n",
              "560   runs          144.0          N        NaN     AY Dandekar   \n",
              "620   runs          146.0          N        NaN     Nitin Menon   \n",
              "\n",
              "           umpire2  season  \n",
              "0      RE Koertzen    2008  \n",
              "351  C Shamshuddin    2013  \n",
              "497    VA Kulkarni    2015  \n",
              "560      VK Sharma    2016  \n",
              "620      CK Nandan    2017  "
            ]
          },
          "metadata": {
            "tags": []
          },
          "execution_count": 13
        }
      ]
    },
    {
      "cell_type": "code",
      "metadata": {
        "id": "uOzciOp4iGcU",
        "outputId": "fc8e6cb3-c014-4cac-e928-875db39290f6"
      },
      "source": [
        "# Match won by the maximum margin of runs\n",
        "matches.iloc[matches['result_margin'].idxmax()]"
      ],
      "execution_count": null,
      "outputs": [
        {
          "output_type": "execute_result",
          "data": {
            "text/plain": [
              "id                             1082635\n",
              "city                             Delhi\n",
              "date               2017-05-06 00:00:00\n",
              "player_of_match            LMP Simmons\n",
              "venue                 Feroz Shah Kotla\n",
              "neutral_venue                        0\n",
              "team1                 Delhi Daredevils\n",
              "team2                   Mumbai Indians\n",
              "toss_winner           Delhi Daredevils\n",
              "toss_decision                    field\n",
              "winner                  Mumbai Indians\n",
              "result                            runs\n",
              "result_margin                      146\n",
              "eliminator                           N\n",
              "dl_applied                         NaN\n",
              "umpire1                    Nitin Menon\n",
              "umpire2                      CK Nandan\n",
              "season                            2017\n",
              "Name: 620, dtype: object"
            ]
          },
          "metadata": {
            "tags": []
          },
          "execution_count": 14
        }
      ]
    },
    {
      "cell_type": "code",
      "metadata": {
        "id": "6I3RcbxZiGcV",
        "outputId": "55f9fcd5-86d9-4c42-c2f4-a138e9c00990"
      },
      "source": [
        "# Match won by maximum wickets\n",
        "matches.iloc[matches.loc[matches['result']=='wickets','result_margin'].idxmax()]"
      ],
      "execution_count": null,
      "outputs": [
        {
          "output_type": "execute_result",
          "data": {
            "text/plain": [
              "id                                     335994\n",
              "city                                   Mumbai\n",
              "date                      2008-04-27 00:00:00\n",
              "player_of_match                  AC Gilchrist\n",
              "venue              Dr DY Patil Sports Academy\n",
              "neutral_venue                               0\n",
              "team1                          Mumbai Indians\n",
              "team2                         Deccan Chargers\n",
              "toss_winner                   Deccan Chargers\n",
              "toss_decision                           field\n",
              "winner                        Deccan Chargers\n",
              "result                                wickets\n",
              "result_margin                              10\n",
              "eliminator                                  N\n",
              "dl_applied                                NaN\n",
              "umpire1                             Asad Rauf\n",
              "umpire2                            SL Shastri\n",
              "season                                   2008\n",
              "Name: 12, dtype: object"
            ]
          },
          "metadata": {
            "tags": []
          },
          "execution_count": 15
        }
      ]
    },
    {
      "cell_type": "code",
      "metadata": {
        "id": "ddmNb5TaiGcW",
        "outputId": "fefd02f0-0afb-4220-d77e-a2d6526167e5"
      },
      "source": [
        "# Matches won by more than 9 wickets \n",
        "label2 = matches[(matches['result']=='wickets') & (matches['result_margin']>9)].index.tolist()\n",
        "\n",
        "matches.iloc[label2]"
      ],
      "execution_count": null,
      "outputs": [
        {
          "output_type": "execute_result",
          "data": {
            "text/html": [
              "<div>\n",
              "<style scoped>\n",
              "    .dataframe tbody tr th:only-of-type {\n",
              "        vertical-align: middle;\n",
              "    }\n",
              "\n",
              "    .dataframe tbody tr th {\n",
              "        vertical-align: top;\n",
              "    }\n",
              "\n",
              "    .dataframe thead th {\n",
              "        text-align: right;\n",
              "    }\n",
              "</style>\n",
              "<table border=\"1\" class=\"dataframe\">\n",
              "  <thead>\n",
              "    <tr style=\"text-align: right;\">\n",
              "      <th></th>\n",
              "      <th>id</th>\n",
              "      <th>city</th>\n",
              "      <th>date</th>\n",
              "      <th>player_of_match</th>\n",
              "      <th>venue</th>\n",
              "      <th>neutral_venue</th>\n",
              "      <th>team1</th>\n",
              "      <th>team2</th>\n",
              "      <th>toss_winner</th>\n",
              "      <th>toss_decision</th>\n",
              "      <th>winner</th>\n",
              "      <th>result</th>\n",
              "      <th>result_margin</th>\n",
              "      <th>eliminator</th>\n",
              "      <th>dl_applied</th>\n",
              "      <th>umpire1</th>\n",
              "      <th>umpire2</th>\n",
              "      <th>season</th>\n",
              "    </tr>\n",
              "  </thead>\n",
              "  <tbody>\n",
              "    <tr>\n",
              "      <th>12</th>\n",
              "      <td>335994</td>\n",
              "      <td>Mumbai</td>\n",
              "      <td>2008-04-27</td>\n",
              "      <td>AC Gilchrist</td>\n",
              "      <td>Dr DY Patil Sports Academy</td>\n",
              "      <td>0</td>\n",
              "      <td>Mumbai Indians</td>\n",
              "      <td>Deccan Chargers</td>\n",
              "      <td>Deccan Chargers</td>\n",
              "      <td>field</td>\n",
              "      <td>Deccan Chargers</td>\n",
              "      <td>wickets</td>\n",
              "      <td>10.0</td>\n",
              "      <td>N</td>\n",
              "      <td>NaN</td>\n",
              "      <td>Asad Rauf</td>\n",
              "      <td>SL Shastri</td>\n",
              "      <td>2008</td>\n",
              "    </tr>\n",
              "    <tr>\n",
              "      <th>60</th>\n",
              "      <td>392183</td>\n",
              "      <td>Cape Town</td>\n",
              "      <td>2009-04-19</td>\n",
              "      <td>DL Vettori</td>\n",
              "      <td>Newlands</td>\n",
              "      <td>1</td>\n",
              "      <td>Delhi Daredevils</td>\n",
              "      <td>Kings XI Punjab</td>\n",
              "      <td>Delhi Daredevils</td>\n",
              "      <td>field</td>\n",
              "      <td>Delhi Daredevils</td>\n",
              "      <td>wickets</td>\n",
              "      <td>10.0</td>\n",
              "      <td>N</td>\n",
              "      <td>D/L</td>\n",
              "      <td>MR Benson</td>\n",
              "      <td>SD Ranade</td>\n",
              "      <td>2009</td>\n",
              "    </tr>\n",
              "    <tr>\n",
              "      <th>124</th>\n",
              "      <td>419115</td>\n",
              "      <td>Bangalore</td>\n",
              "      <td>2010-03-18</td>\n",
              "      <td>JH Kallis</td>\n",
              "      <td>M Chinnaswamy Stadium</td>\n",
              "      <td>0</td>\n",
              "      <td>Royal Challengers Bangalore</td>\n",
              "      <td>Rajasthan Royals</td>\n",
              "      <td>Royal Challengers Bangalore</td>\n",
              "      <td>field</td>\n",
              "      <td>Royal Challengers Bangalore</td>\n",
              "      <td>wickets</td>\n",
              "      <td>10.0</td>\n",
              "      <td>N</td>\n",
              "      <td>NaN</td>\n",
              "      <td>K Hariharan</td>\n",
              "      <td>DJ Harper</td>\n",
              "      <td>2010</td>\n",
              "    </tr>\n",
              "    <tr>\n",
              "      <th>239</th>\n",
              "      <td>501263</td>\n",
              "      <td>Mumbai</td>\n",
              "      <td>2011-05-20</td>\n",
              "      <td>SR Watson</td>\n",
              "      <td>Wankhede Stadium</td>\n",
              "      <td>0</td>\n",
              "      <td>Mumbai Indians</td>\n",
              "      <td>Rajasthan Royals</td>\n",
              "      <td>Mumbai Indians</td>\n",
              "      <td>bat</td>\n",
              "      <td>Rajasthan Royals</td>\n",
              "      <td>wickets</td>\n",
              "      <td>10.0</td>\n",
              "      <td>N</td>\n",
              "      <td>NaN</td>\n",
              "      <td>RE Koertzen</td>\n",
              "      <td>PR Reiffel</td>\n",
              "      <td>2011</td>\n",
              "    </tr>\n",
              "    <tr>\n",
              "      <th>317</th>\n",
              "      <td>548377</td>\n",
              "      <td>Jaipur</td>\n",
              "      <td>2012-05-20</td>\n",
              "      <td>DR Smith</td>\n",
              "      <td>Sawai Mansingh Stadium</td>\n",
              "      <td>0</td>\n",
              "      <td>Rajasthan Royals</td>\n",
              "      <td>Mumbai Indians</td>\n",
              "      <td>Rajasthan Royals</td>\n",
              "      <td>bat</td>\n",
              "      <td>Mumbai Indians</td>\n",
              "      <td>wickets</td>\n",
              "      <td>10.0</td>\n",
              "      <td>N</td>\n",
              "      <td>NaN</td>\n",
              "      <td>HDPK Dharmasena</td>\n",
              "      <td>C Shamshuddin</td>\n",
              "      <td>2012</td>\n",
              "    </tr>\n",
              "    <tr>\n",
              "      <th>331</th>\n",
              "      <td>598007</td>\n",
              "      <td>Chandigarh</td>\n",
              "      <td>2013-04-10</td>\n",
              "      <td>MEK Hussey</td>\n",
              "      <td>Punjab Cricket Association Stadium, Mohali</td>\n",
              "      <td>0</td>\n",
              "      <td>Kings XI Punjab</td>\n",
              "      <td>Chennai Super Kings</td>\n",
              "      <td>Chennai Super Kings</td>\n",
              "      <td>field</td>\n",
              "      <td>Chennai Super Kings</td>\n",
              "      <td>wickets</td>\n",
              "      <td>10.0</td>\n",
              "      <td>N</td>\n",
              "      <td>NaN</td>\n",
              "      <td>Aleem Dar</td>\n",
              "      <td>C Shamshuddin</td>\n",
              "      <td>2013</td>\n",
              "    </tr>\n",
              "    <tr>\n",
              "      <th>483</th>\n",
              "      <td>829757</td>\n",
              "      <td>Delhi</td>\n",
              "      <td>2015-04-26</td>\n",
              "      <td>VR Aaron</td>\n",
              "      <td>Feroz Shah Kotla</td>\n",
              "      <td>0</td>\n",
              "      <td>Delhi Daredevils</td>\n",
              "      <td>Royal Challengers Bangalore</td>\n",
              "      <td>Royal Challengers Bangalore</td>\n",
              "      <td>field</td>\n",
              "      <td>Royal Challengers Bangalore</td>\n",
              "      <td>wickets</td>\n",
              "      <td>10.0</td>\n",
              "      <td>N</td>\n",
              "      <td>NaN</td>\n",
              "      <td>M Erasmus</td>\n",
              "      <td>S Ravi</td>\n",
              "      <td>2015</td>\n",
              "    </tr>\n",
              "    <tr>\n",
              "      <th>531</th>\n",
              "      <td>980929</td>\n",
              "      <td>Rajkot</td>\n",
              "      <td>2016-04-21</td>\n",
              "      <td>B Kumar</td>\n",
              "      <td>Saurashtra Cricket Association Stadium</td>\n",
              "      <td>0</td>\n",
              "      <td>Gujarat Lions</td>\n",
              "      <td>Sunrisers Hyderabad</td>\n",
              "      <td>Sunrisers Hyderabad</td>\n",
              "      <td>field</td>\n",
              "      <td>Sunrisers Hyderabad</td>\n",
              "      <td>wickets</td>\n",
              "      <td>10.0</td>\n",
              "      <td>N</td>\n",
              "      <td>NaN</td>\n",
              "      <td>K Bharatan</td>\n",
              "      <td>HDPK Dharmasena</td>\n",
              "      <td>2016</td>\n",
              "    </tr>\n",
              "    <tr>\n",
              "      <th>579</th>\n",
              "      <td>1082593</td>\n",
              "      <td>Rajkot</td>\n",
              "      <td>2017-04-07</td>\n",
              "      <td>CA Lynn</td>\n",
              "      <td>Saurashtra Cricket Association Stadium</td>\n",
              "      <td>0</td>\n",
              "      <td>Gujarat Lions</td>\n",
              "      <td>Kolkata Knight Riders</td>\n",
              "      <td>Kolkata Knight Riders</td>\n",
              "      <td>field</td>\n",
              "      <td>Kolkata Knight Riders</td>\n",
              "      <td>wickets</td>\n",
              "      <td>10.0</td>\n",
              "      <td>N</td>\n",
              "      <td>NaN</td>\n",
              "      <td>Nitin Menon</td>\n",
              "      <td>CK Nandan</td>\n",
              "      <td>2017</td>\n",
              "    </tr>\n",
              "    <tr>\n",
              "      <th>611</th>\n",
              "      <td>1082626</td>\n",
              "      <td>Chandigarh</td>\n",
              "      <td>2017-04-30</td>\n",
              "      <td>Sandeep Sharma</td>\n",
              "      <td>Punjab Cricket Association IS Bindra Stadium, ...</td>\n",
              "      <td>0</td>\n",
              "      <td>Kings XI Punjab</td>\n",
              "      <td>Delhi Daredevils</td>\n",
              "      <td>Kings XI Punjab</td>\n",
              "      <td>field</td>\n",
              "      <td>Kings XI Punjab</td>\n",
              "      <td>wickets</td>\n",
              "      <td>10.0</td>\n",
              "      <td>N</td>\n",
              "      <td>NaN</td>\n",
              "      <td>YC Barde</td>\n",
              "      <td>CK Nandan</td>\n",
              "      <td>2017</td>\n",
              "    </tr>\n",
              "    <tr>\n",
              "      <th>683</th>\n",
              "      <td>1136608</td>\n",
              "      <td>Indore</td>\n",
              "      <td>2018-05-14</td>\n",
              "      <td>UT Yadav</td>\n",
              "      <td>Holkar Cricket Stadium</td>\n",
              "      <td>0</td>\n",
              "      <td>Kings XI Punjab</td>\n",
              "      <td>Royal Challengers Bangalore</td>\n",
              "      <td>Royal Challengers Bangalore</td>\n",
              "      <td>field</td>\n",
              "      <td>Royal Challengers Bangalore</td>\n",
              "      <td>wickets</td>\n",
              "      <td>10.0</td>\n",
              "      <td>N</td>\n",
              "      <td>NaN</td>\n",
              "      <td>BNJ Oxenford</td>\n",
              "      <td>VK Sharma</td>\n",
              "      <td>2018</td>\n",
              "    </tr>\n",
              "    <tr>\n",
              "      <th>759</th>\n",
              "      <td>1216495</td>\n",
              "      <td>Sharjah</td>\n",
              "      <td>2020-11-03</td>\n",
              "      <td>S Nadeem</td>\n",
              "      <td>Sharjah Cricket Stadium</td>\n",
              "      <td>0</td>\n",
              "      <td>Mumbai Indians</td>\n",
              "      <td>Sunrisers Hyderabad</td>\n",
              "      <td>Sunrisers Hyderabad</td>\n",
              "      <td>field</td>\n",
              "      <td>Sunrisers Hyderabad</td>\n",
              "      <td>wickets</td>\n",
              "      <td>10.0</td>\n",
              "      <td>N</td>\n",
              "      <td>NaN</td>\n",
              "      <td>C Shamshuddin</td>\n",
              "      <td>RK Illingworth</td>\n",
              "      <td>2020</td>\n",
              "    </tr>\n",
              "    <tr>\n",
              "      <th>777</th>\n",
              "      <td>1216513</td>\n",
              "      <td>Dubai</td>\n",
              "      <td>2020-10-04</td>\n",
              "      <td>SR Watson</td>\n",
              "      <td>Dubai International Cricket Stadium</td>\n",
              "      <td>0</td>\n",
              "      <td>Kings XI Punjab</td>\n",
              "      <td>Chennai Super Kings</td>\n",
              "      <td>Kings XI Punjab</td>\n",
              "      <td>bat</td>\n",
              "      <td>Chennai Super Kings</td>\n",
              "      <td>wickets</td>\n",
              "      <td>10.0</td>\n",
              "      <td>N</td>\n",
              "      <td>NaN</td>\n",
              "      <td>AY Dandekar</td>\n",
              "      <td>Nitin Menon</td>\n",
              "      <td>2020</td>\n",
              "    </tr>\n",
              "    <tr>\n",
              "      <th>785</th>\n",
              "      <td>1216521</td>\n",
              "      <td>Sharjah</td>\n",
              "      <td>2020-10-23</td>\n",
              "      <td>TA Boult</td>\n",
              "      <td>Sharjah Cricket Stadium</td>\n",
              "      <td>0</td>\n",
              "      <td>Chennai Super Kings</td>\n",
              "      <td>Mumbai Indians</td>\n",
              "      <td>Mumbai Indians</td>\n",
              "      <td>field</td>\n",
              "      <td>Mumbai Indians</td>\n",
              "      <td>wickets</td>\n",
              "      <td>10.0</td>\n",
              "      <td>N</td>\n",
              "      <td>NaN</td>\n",
              "      <td>C Shamshuddin</td>\n",
              "      <td>VA Kulkarni</td>\n",
              "      <td>2020</td>\n",
              "    </tr>\n",
              "  </tbody>\n",
              "</table>\n",
              "</div>"
            ],
            "text/plain": [
              "          id        city       date player_of_match  \\\n",
              "12    335994      Mumbai 2008-04-27    AC Gilchrist   \n",
              "60    392183   Cape Town 2009-04-19      DL Vettori   \n",
              "124   419115   Bangalore 2010-03-18       JH Kallis   \n",
              "239   501263      Mumbai 2011-05-20       SR Watson   \n",
              "317   548377      Jaipur 2012-05-20        DR Smith   \n",
              "331   598007  Chandigarh 2013-04-10      MEK Hussey   \n",
              "483   829757       Delhi 2015-04-26        VR Aaron   \n",
              "531   980929      Rajkot 2016-04-21         B Kumar   \n",
              "579  1082593      Rajkot 2017-04-07         CA Lynn   \n",
              "611  1082626  Chandigarh 2017-04-30  Sandeep Sharma   \n",
              "683  1136608      Indore 2018-05-14        UT Yadav   \n",
              "759  1216495     Sharjah 2020-11-03        S Nadeem   \n",
              "777  1216513       Dubai 2020-10-04       SR Watson   \n",
              "785  1216521     Sharjah 2020-10-23        TA Boult   \n",
              "\n",
              "                                                 venue  neutral_venue  \\\n",
              "12                          Dr DY Patil Sports Academy              0   \n",
              "60                                            Newlands              1   \n",
              "124                              M Chinnaswamy Stadium              0   \n",
              "239                                   Wankhede Stadium              0   \n",
              "317                             Sawai Mansingh Stadium              0   \n",
              "331         Punjab Cricket Association Stadium, Mohali              0   \n",
              "483                                   Feroz Shah Kotla              0   \n",
              "531             Saurashtra Cricket Association Stadium              0   \n",
              "579             Saurashtra Cricket Association Stadium              0   \n",
              "611  Punjab Cricket Association IS Bindra Stadium, ...              0   \n",
              "683                             Holkar Cricket Stadium              0   \n",
              "759                            Sharjah Cricket Stadium              0   \n",
              "777                Dubai International Cricket Stadium              0   \n",
              "785                            Sharjah Cricket Stadium              0   \n",
              "\n",
              "                           team1                        team2  \\\n",
              "12                Mumbai Indians              Deccan Chargers   \n",
              "60              Delhi Daredevils              Kings XI Punjab   \n",
              "124  Royal Challengers Bangalore             Rajasthan Royals   \n",
              "239               Mumbai Indians             Rajasthan Royals   \n",
              "317             Rajasthan Royals               Mumbai Indians   \n",
              "331              Kings XI Punjab          Chennai Super Kings   \n",
              "483             Delhi Daredevils  Royal Challengers Bangalore   \n",
              "531                Gujarat Lions          Sunrisers Hyderabad   \n",
              "579                Gujarat Lions        Kolkata Knight Riders   \n",
              "611              Kings XI Punjab             Delhi Daredevils   \n",
              "683              Kings XI Punjab  Royal Challengers Bangalore   \n",
              "759               Mumbai Indians          Sunrisers Hyderabad   \n",
              "777              Kings XI Punjab          Chennai Super Kings   \n",
              "785          Chennai Super Kings               Mumbai Indians   \n",
              "\n",
              "                     toss_winner toss_decision                       winner  \\\n",
              "12               Deccan Chargers         field              Deccan Chargers   \n",
              "60              Delhi Daredevils         field             Delhi Daredevils   \n",
              "124  Royal Challengers Bangalore         field  Royal Challengers Bangalore   \n",
              "239               Mumbai Indians           bat             Rajasthan Royals   \n",
              "317             Rajasthan Royals           bat               Mumbai Indians   \n",
              "331          Chennai Super Kings         field          Chennai Super Kings   \n",
              "483  Royal Challengers Bangalore         field  Royal Challengers Bangalore   \n",
              "531          Sunrisers Hyderabad         field          Sunrisers Hyderabad   \n",
              "579        Kolkata Knight Riders         field        Kolkata Knight Riders   \n",
              "611              Kings XI Punjab         field              Kings XI Punjab   \n",
              "683  Royal Challengers Bangalore         field  Royal Challengers Bangalore   \n",
              "759          Sunrisers Hyderabad         field          Sunrisers Hyderabad   \n",
              "777              Kings XI Punjab           bat          Chennai Super Kings   \n",
              "785               Mumbai Indians         field               Mumbai Indians   \n",
              "\n",
              "      result  result_margin eliminator dl_applied          umpire1  \\\n",
              "12   wickets           10.0          N        NaN        Asad Rauf   \n",
              "60   wickets           10.0          N        D/L        MR Benson   \n",
              "124  wickets           10.0          N        NaN      K Hariharan   \n",
              "239  wickets           10.0          N        NaN      RE Koertzen   \n",
              "317  wickets           10.0          N        NaN  HDPK Dharmasena   \n",
              "331  wickets           10.0          N        NaN        Aleem Dar   \n",
              "483  wickets           10.0          N        NaN        M Erasmus   \n",
              "531  wickets           10.0          N        NaN       K Bharatan   \n",
              "579  wickets           10.0          N        NaN      Nitin Menon   \n",
              "611  wickets           10.0          N        NaN         YC Barde   \n",
              "683  wickets           10.0          N        NaN     BNJ Oxenford   \n",
              "759  wickets           10.0          N        NaN    C Shamshuddin   \n",
              "777  wickets           10.0          N        NaN      AY Dandekar   \n",
              "785  wickets           10.0          N        NaN    C Shamshuddin   \n",
              "\n",
              "             umpire2  season  \n",
              "12        SL Shastri    2008  \n",
              "60         SD Ranade    2009  \n",
              "124        DJ Harper    2010  \n",
              "239       PR Reiffel    2011  \n",
              "317    C Shamshuddin    2012  \n",
              "331    C Shamshuddin    2013  \n",
              "483           S Ravi    2015  \n",
              "531  HDPK Dharmasena    2016  \n",
              "579        CK Nandan    2017  \n",
              "611        CK Nandan    2017  \n",
              "683        VK Sharma    2018  \n",
              "759   RK Illingworth    2020  \n",
              "777      Nitin Menon    2020  \n",
              "785      VA Kulkarni    2020  "
            ]
          },
          "metadata": {
            "tags": []
          },
          "execution_count": 74
        }
      ]
    },
    {
      "cell_type": "code",
      "metadata": {
        "id": "3RPjepD-iGcY",
        "outputId": "45465c3e-6c81-4fd0-86e5-91305f4b1146"
      },
      "source": [
        "\n",
        "# Match won by minimum margin of runs \n",
        "matches.iloc[matches.loc[matches['result']=='runs','result_margin'].idxmin()]"
      ],
      "execution_count": null,
      "outputs": [
        {
          "output_type": "execute_result",
          "data": {
            "text/plain": [
              "id                              336028\n",
              "city                            Mumbai\n",
              "date               2008-05-21 00:00:00\n",
              "player_of_match               SE Marsh\n",
              "venue                 Wankhede Stadium\n",
              "neutral_venue                        0\n",
              "team1                   Mumbai Indians\n",
              "team2                  Kings XI Punjab\n",
              "toss_winner             Mumbai Indians\n",
              "toss_decision                    field\n",
              "winner                 Kings XI Punjab\n",
              "result                            runs\n",
              "result_margin                        1\n",
              "eliminator                           N\n",
              "dl_applied                         NaN\n",
              "umpire1                      BF Bowden\n",
              "umpire2                 GA Pratapkumar\n",
              "season                            2008\n",
              "Name: 46, dtype: object"
            ]
          },
          "metadata": {
            "tags": []
          },
          "execution_count": 17
        }
      ]
    },
    {
      "cell_type": "code",
      "metadata": {
        "id": "4WV8nTvUiGcZ",
        "outputId": "a59cbc33-7f69-42e7-c544-ff5fd8c03245"
      },
      "source": [
        "# Matches won by close margin of runs \n",
        "label3 = matches[(matches['result']=='runs') & (matches['result_margin']<3)].index.tolist()\n",
        "\n",
        "matches.iloc[label3]"
      ],
      "execution_count": null,
      "outputs": [
        {
          "output_type": "execute_result",
          "data": {
            "text/html": [
              "<div>\n",
              "<style scoped>\n",
              "    .dataframe tbody tr th:only-of-type {\n",
              "        vertical-align: middle;\n",
              "    }\n",
              "\n",
              "    .dataframe tbody tr th {\n",
              "        vertical-align: top;\n",
              "    }\n",
              "\n",
              "    .dataframe thead th {\n",
              "        text-align: right;\n",
              "    }\n",
              "</style>\n",
              "<table border=\"1\" class=\"dataframe\">\n",
              "  <thead>\n",
              "    <tr style=\"text-align: right;\">\n",
              "      <th></th>\n",
              "      <th>id</th>\n",
              "      <th>city</th>\n",
              "      <th>date</th>\n",
              "      <th>player_of_match</th>\n",
              "      <th>venue</th>\n",
              "      <th>neutral_venue</th>\n",
              "      <th>team1</th>\n",
              "      <th>team2</th>\n",
              "      <th>toss_winner</th>\n",
              "      <th>toss_decision</th>\n",
              "      <th>winner</th>\n",
              "      <th>result</th>\n",
              "      <th>result_margin</th>\n",
              "      <th>eliminator</th>\n",
              "      <th>dl_applied</th>\n",
              "      <th>umpire1</th>\n",
              "      <th>umpire2</th>\n",
              "      <th>season</th>\n",
              "    </tr>\n",
              "  </thead>\n",
              "  <tbody>\n",
              "    <tr>\n",
              "      <th>46</th>\n",
              "      <td>336028</td>\n",
              "      <td>Mumbai</td>\n",
              "      <td>2008-05-21</td>\n",
              "      <td>SE Marsh</td>\n",
              "      <td>Wankhede Stadium</td>\n",
              "      <td>0</td>\n",
              "      <td>Mumbai Indians</td>\n",
              "      <td>Kings XI Punjab</td>\n",
              "      <td>Mumbai Indians</td>\n",
              "      <td>field</td>\n",
              "      <td>Kings XI Punjab</td>\n",
              "      <td>runs</td>\n",
              "      <td>1.0</td>\n",
              "      <td>N</td>\n",
              "      <td>NaN</td>\n",
              "      <td>BF Bowden</td>\n",
              "      <td>GA Pratapkumar</td>\n",
              "      <td>2008</td>\n",
              "    </tr>\n",
              "    <tr>\n",
              "      <th>100</th>\n",
              "      <td>392225</td>\n",
              "      <td>Durban</td>\n",
              "      <td>2009-05-14</td>\n",
              "      <td>SK Warne</td>\n",
              "      <td>Kingsmead</td>\n",
              "      <td>1</td>\n",
              "      <td>Mumbai Indians</td>\n",
              "      <td>Rajasthan Royals</td>\n",
              "      <td>Rajasthan Royals</td>\n",
              "      <td>bat</td>\n",
              "      <td>Rajasthan Royals</td>\n",
              "      <td>runs</td>\n",
              "      <td>2.0</td>\n",
              "      <td>N</td>\n",
              "      <td>NaN</td>\n",
              "      <td>BR Doctrove</td>\n",
              "      <td>DJ Harper</td>\n",
              "      <td>2009</td>\n",
              "    </tr>\n",
              "    <tr>\n",
              "      <th>104</th>\n",
              "      <td>392229</td>\n",
              "      <td>Johannesburg</td>\n",
              "      <td>2009-05-17</td>\n",
              "      <td>Yuvraj Singh</td>\n",
              "      <td>New Wanderers Stadium</td>\n",
              "      <td>1</td>\n",
              "      <td>Deccan Chargers</td>\n",
              "      <td>Kings XI Punjab</td>\n",
              "      <td>Deccan Chargers</td>\n",
              "      <td>field</td>\n",
              "      <td>Kings XI Punjab</td>\n",
              "      <td>runs</td>\n",
              "      <td>1.0</td>\n",
              "      <td>N</td>\n",
              "      <td>NaN</td>\n",
              "      <td>S Ravi</td>\n",
              "      <td>RB Tiffin</td>\n",
              "      <td>2009</td>\n",
              "    </tr>\n",
              "    <tr>\n",
              "      <th>150</th>\n",
              "      <td>419141</td>\n",
              "      <td>Nagpur</td>\n",
              "      <td>2010-04-05</td>\n",
              "      <td>SK Warne</td>\n",
              "      <td>Vidarbha Cricket Association Stadium, Jamtha</td>\n",
              "      <td>0</td>\n",
              "      <td>Deccan Chargers</td>\n",
              "      <td>Rajasthan Royals</td>\n",
              "      <td>Rajasthan Royals</td>\n",
              "      <td>bat</td>\n",
              "      <td>Rajasthan Royals</td>\n",
              "      <td>runs</td>\n",
              "      <td>2.0</td>\n",
              "      <td>N</td>\n",
              "      <td>NaN</td>\n",
              "      <td>HDPK Dharmasena</td>\n",
              "      <td>SJA Taufel</td>\n",
              "      <td>2010</td>\n",
              "    </tr>\n",
              "    <tr>\n",
              "      <th>175</th>\n",
              "      <td>501198</td>\n",
              "      <td>Chennai</td>\n",
              "      <td>2011-04-08</td>\n",
              "      <td>S Anirudha</td>\n",
              "      <td>MA Chidambaram Stadium, Chepauk</td>\n",
              "      <td>0</td>\n",
              "      <td>Chennai Super Kings</td>\n",
              "      <td>Kolkata Knight Riders</td>\n",
              "      <td>Chennai Super Kings</td>\n",
              "      <td>bat</td>\n",
              "      <td>Chennai Super Kings</td>\n",
              "      <td>runs</td>\n",
              "      <td>2.0</td>\n",
              "      <td>N</td>\n",
              "      <td>NaN</td>\n",
              "      <td>BR Doctrove</td>\n",
              "      <td>PR Reiffel</td>\n",
              "      <td>2011</td>\n",
              "    </tr>\n",
              "    <tr>\n",
              "      <th>265</th>\n",
              "      <td>548323</td>\n",
              "      <td>Kolkata</td>\n",
              "      <td>2012-04-15</td>\n",
              "      <td>SP Narine</td>\n",
              "      <td>Eden Gardens</td>\n",
              "      <td>0</td>\n",
              "      <td>Kolkata Knight Riders</td>\n",
              "      <td>Kings XI Punjab</td>\n",
              "      <td>Kolkata Knight Riders</td>\n",
              "      <td>field</td>\n",
              "      <td>Kings XI Punjab</td>\n",
              "      <td>runs</td>\n",
              "      <td>2.0</td>\n",
              "      <td>N</td>\n",
              "      <td>NaN</td>\n",
              "      <td>Asad Rauf</td>\n",
              "      <td>S Asnani</td>\n",
              "      <td>2012</td>\n",
              "    </tr>\n",
              "    <tr>\n",
              "      <th>285</th>\n",
              "      <td>548345</td>\n",
              "      <td>Delhi</td>\n",
              "      <td>2012-04-29</td>\n",
              "      <td>V Sehwag</td>\n",
              "      <td>Feroz Shah Kotla</td>\n",
              "      <td>0</td>\n",
              "      <td>Delhi Daredevils</td>\n",
              "      <td>Rajasthan Royals</td>\n",
              "      <td>Delhi Daredevils</td>\n",
              "      <td>bat</td>\n",
              "      <td>Delhi Daredevils</td>\n",
              "      <td>runs</td>\n",
              "      <td>1.0</td>\n",
              "      <td>N</td>\n",
              "      <td>NaN</td>\n",
              "      <td>S Ravi</td>\n",
              "      <td>RJ Tucker</td>\n",
              "      <td>2012</td>\n",
              "    </tr>\n",
              "    <tr>\n",
              "      <th>291</th>\n",
              "      <td>548351</td>\n",
              "      <td>Pune</td>\n",
              "      <td>2012-05-03</td>\n",
              "      <td>SL Malinga</td>\n",
              "      <td>Subrata Roy Sahara Stadium</td>\n",
              "      <td>0</td>\n",
              "      <td>Pune Warriors</td>\n",
              "      <td>Mumbai Indians</td>\n",
              "      <td>Mumbai Indians</td>\n",
              "      <td>bat</td>\n",
              "      <td>Mumbai Indians</td>\n",
              "      <td>runs</td>\n",
              "      <td>1.0</td>\n",
              "      <td>N</td>\n",
              "      <td>NaN</td>\n",
              "      <td>Asad Rauf</td>\n",
              "      <td>S Asnani</td>\n",
              "      <td>2012</td>\n",
              "    </tr>\n",
              "    <tr>\n",
              "      <th>323</th>\n",
              "      <td>597999</td>\n",
              "      <td>Bangalore</td>\n",
              "      <td>2013-04-04</td>\n",
              "      <td>CH Gayle</td>\n",
              "      <td>M Chinnaswamy Stadium</td>\n",
              "      <td>0</td>\n",
              "      <td>Royal Challengers Bangalore</td>\n",
              "      <td>Mumbai Indians</td>\n",
              "      <td>Mumbai Indians</td>\n",
              "      <td>field</td>\n",
              "      <td>Royal Challengers Bangalore</td>\n",
              "      <td>runs</td>\n",
              "      <td>2.0</td>\n",
              "      <td>N</td>\n",
              "      <td>NaN</td>\n",
              "      <td>VA Kulkarni</td>\n",
              "      <td>C Shamshuddin</td>\n",
              "      <td>2013</td>\n",
              "    </tr>\n",
              "    <tr>\n",
              "      <th>408</th>\n",
              "      <td>729299</td>\n",
              "      <td>NaN</td>\n",
              "      <td>2014-04-24</td>\n",
              "      <td>CA Lynn</td>\n",
              "      <td>Sharjah Cricket Stadium</td>\n",
              "      <td>1</td>\n",
              "      <td>Royal Challengers Bangalore</td>\n",
              "      <td>Kolkata Knight Riders</td>\n",
              "      <td>Royal Challengers Bangalore</td>\n",
              "      <td>field</td>\n",
              "      <td>Kolkata Knight Riders</td>\n",
              "      <td>runs</td>\n",
              "      <td>2.0</td>\n",
              "      <td>N</td>\n",
              "      <td>NaN</td>\n",
              "      <td>Aleem Dar</td>\n",
              "      <td>VA Kulkarni</td>\n",
              "      <td>2014</td>\n",
              "    </tr>\n",
              "    <tr>\n",
              "      <th>459</th>\n",
              "      <td>829707</td>\n",
              "      <td>Chennai</td>\n",
              "      <td>2015-04-09</td>\n",
              "      <td>A Nehra</td>\n",
              "      <td>MA Chidambaram Stadium, Chepauk</td>\n",
              "      <td>0</td>\n",
              "      <td>Chennai Super Kings</td>\n",
              "      <td>Delhi Daredevils</td>\n",
              "      <td>Delhi Daredevils</td>\n",
              "      <td>field</td>\n",
              "      <td>Chennai Super Kings</td>\n",
              "      <td>runs</td>\n",
              "      <td>1.0</td>\n",
              "      <td>N</td>\n",
              "      <td>NaN</td>\n",
              "      <td>RK Illingworth</td>\n",
              "      <td>VA Kulkarni</td>\n",
              "      <td>2015</td>\n",
              "    </tr>\n",
              "    <tr>\n",
              "      <th>487</th>\n",
              "      <td>829765</td>\n",
              "      <td>Chennai</td>\n",
              "      <td>2015-04-28</td>\n",
              "      <td>DJ Bravo</td>\n",
              "      <td>MA Chidambaram Stadium, Chepauk</td>\n",
              "      <td>0</td>\n",
              "      <td>Chennai Super Kings</td>\n",
              "      <td>Kolkata Knight Riders</td>\n",
              "      <td>Kolkata Knight Riders</td>\n",
              "      <td>field</td>\n",
              "      <td>Chennai Super Kings</td>\n",
              "      <td>runs</td>\n",
              "      <td>2.0</td>\n",
              "      <td>N</td>\n",
              "      <td>NaN</td>\n",
              "      <td>RM Deshpande</td>\n",
              "      <td>VA Kulkarni</td>\n",
              "      <td>2015</td>\n",
              "    </tr>\n",
              "    <tr>\n",
              "      <th>539</th>\n",
              "      <td>980945</td>\n",
              "      <td>Delhi</td>\n",
              "      <td>2016-04-27</td>\n",
              "      <td>CH Morris</td>\n",
              "      <td>Feroz Shah Kotla</td>\n",
              "      <td>0</td>\n",
              "      <td>Delhi Daredevils</td>\n",
              "      <td>Gujarat Lions</td>\n",
              "      <td>Delhi Daredevils</td>\n",
              "      <td>field</td>\n",
              "      <td>Gujarat Lions</td>\n",
              "      <td>runs</td>\n",
              "      <td>1.0</td>\n",
              "      <td>N</td>\n",
              "      <td>NaN</td>\n",
              "      <td>M Erasmus</td>\n",
              "      <td>S Ravi</td>\n",
              "      <td>2016</td>\n",
              "    </tr>\n",
              "    <tr>\n",
              "      <th>555</th>\n",
              "      <td>980977</td>\n",
              "      <td>Chandigarh</td>\n",
              "      <td>2016-05-09</td>\n",
              "      <td>SR Watson</td>\n",
              "      <td>Punjab Cricket Association IS Bindra Stadium, ...</td>\n",
              "      <td>0</td>\n",
              "      <td>Kings XI Punjab</td>\n",
              "      <td>Royal Challengers Bangalore</td>\n",
              "      <td>Kings XI Punjab</td>\n",
              "      <td>field</td>\n",
              "      <td>Royal Challengers Bangalore</td>\n",
              "      <td>runs</td>\n",
              "      <td>1.0</td>\n",
              "      <td>N</td>\n",
              "      <td>NaN</td>\n",
              "      <td>AK Chaudhary</td>\n",
              "      <td>HDPK Dharmasena</td>\n",
              "      <td>2016</td>\n",
              "    </tr>\n",
              "    <tr>\n",
              "      <th>635</th>\n",
              "      <td>1082650</td>\n",
              "      <td>Hyderabad</td>\n",
              "      <td>2017-05-21</td>\n",
              "      <td>KH Pandya</td>\n",
              "      <td>Rajiv Gandhi International Stadium, Uppal</td>\n",
              "      <td>0</td>\n",
              "      <td>Mumbai Indians</td>\n",
              "      <td>Rising Pune Supergiant</td>\n",
              "      <td>Mumbai Indians</td>\n",
              "      <td>bat</td>\n",
              "      <td>Mumbai Indians</td>\n",
              "      <td>runs</td>\n",
              "      <td>1.0</td>\n",
              "      <td>N</td>\n",
              "      <td>NaN</td>\n",
              "      <td>NJ Llong</td>\n",
              "      <td>S Ravi</td>\n",
              "      <td>2017</td>\n",
              "    </tr>\n",
              "    <tr>\n",
              "      <th>734</th>\n",
              "      <td>1178414</td>\n",
              "      <td>Bengaluru</td>\n",
              "      <td>2019-04-21</td>\n",
              "      <td>PA Patel</td>\n",
              "      <td>M.Chinnaswamy Stadium</td>\n",
              "      <td>0</td>\n",
              "      <td>Royal Challengers Bangalore</td>\n",
              "      <td>Chennai Super Kings</td>\n",
              "      <td>Chennai Super Kings</td>\n",
              "      <td>field</td>\n",
              "      <td>Royal Challengers Bangalore</td>\n",
              "      <td>runs</td>\n",
              "      <td>1.0</td>\n",
              "      <td>N</td>\n",
              "      <td>NaN</td>\n",
              "      <td>RJ Tucker</td>\n",
              "      <td>VA Kulkarni</td>\n",
              "      <td>2019</td>\n",
              "    </tr>\n",
              "    <tr>\n",
              "      <th>755</th>\n",
              "      <td>1181768</td>\n",
              "      <td>Hyderabad</td>\n",
              "      <td>2019-05-12</td>\n",
              "      <td>JJ Bumrah</td>\n",
              "      <td>Rajiv Gandhi International Stadium, Uppal</td>\n",
              "      <td>0</td>\n",
              "      <td>Mumbai Indians</td>\n",
              "      <td>Chennai Super Kings</td>\n",
              "      <td>Mumbai Indians</td>\n",
              "      <td>bat</td>\n",
              "      <td>Mumbai Indians</td>\n",
              "      <td>runs</td>\n",
              "      <td>1.0</td>\n",
              "      <td>N</td>\n",
              "      <td>NaN</td>\n",
              "      <td>IJ Gould</td>\n",
              "      <td>Nitin Menon</td>\n",
              "      <td>2019</td>\n",
              "    </tr>\n",
              "    <tr>\n",
              "      <th>787</th>\n",
              "      <td>1216523</td>\n",
              "      <td>Abu Dhabi</td>\n",
              "      <td>2020-10-10</td>\n",
              "      <td>KD Karthik</td>\n",
              "      <td>Sheikh Zayed Stadium</td>\n",
              "      <td>0</td>\n",
              "      <td>Kolkata Knight Riders</td>\n",
              "      <td>Kings XI Punjab</td>\n",
              "      <td>Kolkata Knight Riders</td>\n",
              "      <td>bat</td>\n",
              "      <td>Kolkata Knight Riders</td>\n",
              "      <td>runs</td>\n",
              "      <td>2.0</td>\n",
              "      <td>N</td>\n",
              "      <td>NaN</td>\n",
              "      <td>UV Gandhe</td>\n",
              "      <td>CB Gaffaney</td>\n",
              "      <td>2020</td>\n",
              "    </tr>\n",
              "  </tbody>\n",
              "</table>\n",
              "</div>"
            ],
            "text/plain": [
              "          id          city       date player_of_match  \\\n",
              "46    336028        Mumbai 2008-05-21        SE Marsh   \n",
              "100   392225        Durban 2009-05-14        SK Warne   \n",
              "104   392229  Johannesburg 2009-05-17    Yuvraj Singh   \n",
              "150   419141        Nagpur 2010-04-05        SK Warne   \n",
              "175   501198       Chennai 2011-04-08      S Anirudha   \n",
              "265   548323       Kolkata 2012-04-15       SP Narine   \n",
              "285   548345         Delhi 2012-04-29        V Sehwag   \n",
              "291   548351          Pune 2012-05-03      SL Malinga   \n",
              "323   597999     Bangalore 2013-04-04        CH Gayle   \n",
              "408   729299           NaN 2014-04-24         CA Lynn   \n",
              "459   829707       Chennai 2015-04-09         A Nehra   \n",
              "487   829765       Chennai 2015-04-28        DJ Bravo   \n",
              "539   980945         Delhi 2016-04-27       CH Morris   \n",
              "555   980977    Chandigarh 2016-05-09       SR Watson   \n",
              "635  1082650     Hyderabad 2017-05-21       KH Pandya   \n",
              "734  1178414     Bengaluru 2019-04-21        PA Patel   \n",
              "755  1181768     Hyderabad 2019-05-12       JJ Bumrah   \n",
              "787  1216523     Abu Dhabi 2020-10-10      KD Karthik   \n",
              "\n",
              "                                                 venue  neutral_venue  \\\n",
              "46                                    Wankhede Stadium              0   \n",
              "100                                          Kingsmead              1   \n",
              "104                              New Wanderers Stadium              1   \n",
              "150       Vidarbha Cricket Association Stadium, Jamtha              0   \n",
              "175                    MA Chidambaram Stadium, Chepauk              0   \n",
              "265                                       Eden Gardens              0   \n",
              "285                                   Feroz Shah Kotla              0   \n",
              "291                         Subrata Roy Sahara Stadium              0   \n",
              "323                              M Chinnaswamy Stadium              0   \n",
              "408                            Sharjah Cricket Stadium              1   \n",
              "459                    MA Chidambaram Stadium, Chepauk              0   \n",
              "487                    MA Chidambaram Stadium, Chepauk              0   \n",
              "539                                   Feroz Shah Kotla              0   \n",
              "555  Punjab Cricket Association IS Bindra Stadium, ...              0   \n",
              "635          Rajiv Gandhi International Stadium, Uppal              0   \n",
              "734                              M.Chinnaswamy Stadium              0   \n",
              "755          Rajiv Gandhi International Stadium, Uppal              0   \n",
              "787                               Sheikh Zayed Stadium              0   \n",
              "\n",
              "                           team1                        team2  \\\n",
              "46                Mumbai Indians              Kings XI Punjab   \n",
              "100               Mumbai Indians             Rajasthan Royals   \n",
              "104              Deccan Chargers              Kings XI Punjab   \n",
              "150              Deccan Chargers             Rajasthan Royals   \n",
              "175          Chennai Super Kings        Kolkata Knight Riders   \n",
              "265        Kolkata Knight Riders              Kings XI Punjab   \n",
              "285             Delhi Daredevils             Rajasthan Royals   \n",
              "291                Pune Warriors               Mumbai Indians   \n",
              "323  Royal Challengers Bangalore               Mumbai Indians   \n",
              "408  Royal Challengers Bangalore        Kolkata Knight Riders   \n",
              "459          Chennai Super Kings             Delhi Daredevils   \n",
              "487          Chennai Super Kings        Kolkata Knight Riders   \n",
              "539             Delhi Daredevils                Gujarat Lions   \n",
              "555              Kings XI Punjab  Royal Challengers Bangalore   \n",
              "635               Mumbai Indians       Rising Pune Supergiant   \n",
              "734  Royal Challengers Bangalore          Chennai Super Kings   \n",
              "755               Mumbai Indians          Chennai Super Kings   \n",
              "787        Kolkata Knight Riders              Kings XI Punjab   \n",
              "\n",
              "                     toss_winner toss_decision                       winner  \\\n",
              "46                Mumbai Indians         field              Kings XI Punjab   \n",
              "100             Rajasthan Royals           bat             Rajasthan Royals   \n",
              "104              Deccan Chargers         field              Kings XI Punjab   \n",
              "150             Rajasthan Royals           bat             Rajasthan Royals   \n",
              "175          Chennai Super Kings           bat          Chennai Super Kings   \n",
              "265        Kolkata Knight Riders         field              Kings XI Punjab   \n",
              "285             Delhi Daredevils           bat             Delhi Daredevils   \n",
              "291               Mumbai Indians           bat               Mumbai Indians   \n",
              "323               Mumbai Indians         field  Royal Challengers Bangalore   \n",
              "408  Royal Challengers Bangalore         field        Kolkata Knight Riders   \n",
              "459             Delhi Daredevils         field          Chennai Super Kings   \n",
              "487        Kolkata Knight Riders         field          Chennai Super Kings   \n",
              "539             Delhi Daredevils         field                Gujarat Lions   \n",
              "555              Kings XI Punjab         field  Royal Challengers Bangalore   \n",
              "635               Mumbai Indians           bat               Mumbai Indians   \n",
              "734          Chennai Super Kings         field  Royal Challengers Bangalore   \n",
              "755               Mumbai Indians           bat               Mumbai Indians   \n",
              "787        Kolkata Knight Riders           bat        Kolkata Knight Riders   \n",
              "\n",
              "    result  result_margin eliminator dl_applied          umpire1  \\\n",
              "46    runs            1.0          N        NaN        BF Bowden   \n",
              "100   runs            2.0          N        NaN      BR Doctrove   \n",
              "104   runs            1.0          N        NaN           S Ravi   \n",
              "150   runs            2.0          N        NaN  HDPK Dharmasena   \n",
              "175   runs            2.0          N        NaN      BR Doctrove   \n",
              "265   runs            2.0          N        NaN        Asad Rauf   \n",
              "285   runs            1.0          N        NaN           S Ravi   \n",
              "291   runs            1.0          N        NaN        Asad Rauf   \n",
              "323   runs            2.0          N        NaN      VA Kulkarni   \n",
              "408   runs            2.0          N        NaN        Aleem Dar   \n",
              "459   runs            1.0          N        NaN   RK Illingworth   \n",
              "487   runs            2.0          N        NaN     RM Deshpande   \n",
              "539   runs            1.0          N        NaN        M Erasmus   \n",
              "555   runs            1.0          N        NaN     AK Chaudhary   \n",
              "635   runs            1.0          N        NaN         NJ Llong   \n",
              "734   runs            1.0          N        NaN        RJ Tucker   \n",
              "755   runs            1.0          N        NaN         IJ Gould   \n",
              "787   runs            2.0          N        NaN        UV Gandhe   \n",
              "\n",
              "             umpire2  season  \n",
              "46    GA Pratapkumar    2008  \n",
              "100        DJ Harper    2009  \n",
              "104        RB Tiffin    2009  \n",
              "150       SJA Taufel    2010  \n",
              "175       PR Reiffel    2011  \n",
              "265         S Asnani    2012  \n",
              "285        RJ Tucker    2012  \n",
              "291         S Asnani    2012  \n",
              "323    C Shamshuddin    2013  \n",
              "408      VA Kulkarni    2014  \n",
              "459      VA Kulkarni    2015  \n",
              "487      VA Kulkarni    2015  \n",
              "539           S Ravi    2016  \n",
              "555  HDPK Dharmasena    2016  \n",
              "635           S Ravi    2017  \n",
              "734      VA Kulkarni    2019  \n",
              "755      Nitin Menon    2019  \n",
              "787      CB Gaffaney    2020  "
            ]
          },
          "metadata": {
            "tags": []
          },
          "execution_count": 18
        }
      ]
    },
    {
      "cell_type": "code",
      "metadata": {
        "id": "MakyXAFuiGca",
        "outputId": "cf78f15b-5be8-4f86-c7ea-c5c19c11e186"
      },
      "source": [
        "# Matches won by minimum wickets (not by 0 wickets)\n",
        "label = matches[(matches['result']=='wickets') & (matches['result_margin']<=1)].index.tolist()\n",
        "\n",
        "matches.iloc[label]"
      ],
      "execution_count": null,
      "outputs": [
        {
          "output_type": "execute_result",
          "data": {
            "text/html": [
              "<div>\n",
              "<style scoped>\n",
              "    .dataframe tbody tr th:only-of-type {\n",
              "        vertical-align: middle;\n",
              "    }\n",
              "\n",
              "    .dataframe tbody tr th {\n",
              "        vertical-align: top;\n",
              "    }\n",
              "\n",
              "    .dataframe thead th {\n",
              "        text-align: right;\n",
              "    }\n",
              "</style>\n",
              "<table border=\"1\" class=\"dataframe\">\n",
              "  <thead>\n",
              "    <tr style=\"text-align: right;\">\n",
              "      <th></th>\n",
              "      <th>id</th>\n",
              "      <th>city</th>\n",
              "      <th>date</th>\n",
              "      <th>player_of_match</th>\n",
              "      <th>venue</th>\n",
              "      <th>neutral_venue</th>\n",
              "      <th>team1</th>\n",
              "      <th>team2</th>\n",
              "      <th>toss_winner</th>\n",
              "      <th>toss_decision</th>\n",
              "      <th>winner</th>\n",
              "      <th>result</th>\n",
              "      <th>result_margin</th>\n",
              "      <th>eliminator</th>\n",
              "      <th>dl_applied</th>\n",
              "      <th>umpire1</th>\n",
              "      <th>umpire2</th>\n",
              "      <th>season</th>\n",
              "    </tr>\n",
              "  </thead>\n",
              "  <tbody>\n",
              "    <tr>\n",
              "      <th>500</th>\n",
              "      <td>829791</td>\n",
              "      <td>Kolkata</td>\n",
              "      <td>2015-05-09</td>\n",
              "      <td>AD Russell</td>\n",
              "      <td>Eden Gardens</td>\n",
              "      <td>0</td>\n",
              "      <td>Kolkata Knight Riders</td>\n",
              "      <td>Kings XI Punjab</td>\n",
              "      <td>Kings XI Punjab</td>\n",
              "      <td>bat</td>\n",
              "      <td>Kolkata Knight Riders</td>\n",
              "      <td>wickets</td>\n",
              "      <td>1.0</td>\n",
              "      <td>N</td>\n",
              "      <td>NaN</td>\n",
              "      <td>AK Chaudhary</td>\n",
              "      <td>HDPK Dharmasena</td>\n",
              "      <td>2015</td>\n",
              "    </tr>\n",
              "    <tr>\n",
              "      <th>636</th>\n",
              "      <td>1136561</td>\n",
              "      <td>Mumbai</td>\n",
              "      <td>2018-04-07</td>\n",
              "      <td>DJ Bravo</td>\n",
              "      <td>Wankhede Stadium</td>\n",
              "      <td>0</td>\n",
              "      <td>Mumbai Indians</td>\n",
              "      <td>Chennai Super Kings</td>\n",
              "      <td>Chennai Super Kings</td>\n",
              "      <td>field</td>\n",
              "      <td>Chennai Super Kings</td>\n",
              "      <td>wickets</td>\n",
              "      <td>1.0</td>\n",
              "      <td>N</td>\n",
              "      <td>NaN</td>\n",
              "      <td>CB Gaffaney</td>\n",
              "      <td>A Nand Kishore</td>\n",
              "      <td>2018</td>\n",
              "    </tr>\n",
              "    <tr>\n",
              "      <th>642</th>\n",
              "      <td>1136567</td>\n",
              "      <td>Hyderabad</td>\n",
              "      <td>2018-04-12</td>\n",
              "      <td>Rashid Khan</td>\n",
              "      <td>Rajiv Gandhi International Stadium, Uppal</td>\n",
              "      <td>0</td>\n",
              "      <td>Sunrisers Hyderabad</td>\n",
              "      <td>Mumbai Indians</td>\n",
              "      <td>Sunrisers Hyderabad</td>\n",
              "      <td>field</td>\n",
              "      <td>Sunrisers Hyderabad</td>\n",
              "      <td>wickets</td>\n",
              "      <td>1.0</td>\n",
              "      <td>N</td>\n",
              "      <td>NaN</td>\n",
              "      <td>NJ Llong</td>\n",
              "      <td>CK Nandan</td>\n",
              "      <td>2018</td>\n",
              "    </tr>\n",
              "  </tbody>\n",
              "</table>\n",
              "</div>"
            ],
            "text/plain": [
              "          id       city       date player_of_match  \\\n",
              "500   829791    Kolkata 2015-05-09      AD Russell   \n",
              "636  1136561     Mumbai 2018-04-07        DJ Bravo   \n",
              "642  1136567  Hyderabad 2018-04-12     Rashid Khan   \n",
              "\n",
              "                                         venue  neutral_venue  \\\n",
              "500                               Eden Gardens              0   \n",
              "636                           Wankhede Stadium              0   \n",
              "642  Rajiv Gandhi International Stadium, Uppal              0   \n",
              "\n",
              "                     team1                team2          toss_winner  \\\n",
              "500  Kolkata Knight Riders      Kings XI Punjab      Kings XI Punjab   \n",
              "636         Mumbai Indians  Chennai Super Kings  Chennai Super Kings   \n",
              "642    Sunrisers Hyderabad       Mumbai Indians  Sunrisers Hyderabad   \n",
              "\n",
              "    toss_decision                 winner   result  result_margin eliminator  \\\n",
              "500           bat  Kolkata Knight Riders  wickets            1.0          N   \n",
              "636         field    Chennai Super Kings  wickets            1.0          N   \n",
              "642         field    Sunrisers Hyderabad  wickets            1.0          N   \n",
              "\n",
              "    dl_applied       umpire1          umpire2  season  \n",
              "500        NaN  AK Chaudhary  HDPK Dharmasena    2015  \n",
              "636        NaN   CB Gaffaney   A Nand Kishore    2018  \n",
              "642        NaN      NJ Llong        CK Nandan    2018  "
            ]
          },
          "metadata": {
            "tags": []
          },
          "execution_count": 19
        }
      ]
    },
    {
      "cell_type": "code",
      "metadata": {
        "id": "A7PFphQoiGcc",
        "outputId": "c3f6e6bb-5abc-41e2-b9a6-b546681f52c1"
      },
      "source": [
        "# Match won by minimum wickets (not by 0 wickets)\n",
        "matches.iloc[matches.loc[matches['result']=='wickets','result_margin'].idxmin()]"
      ],
      "execution_count": null,
      "outputs": [
        {
          "output_type": "execute_result",
          "data": {
            "text/plain": [
              "id                                829791\n",
              "city                             Kolkata\n",
              "date                 2015-05-09 00:00:00\n",
              "player_of_match               AD Russell\n",
              "venue                       Eden Gardens\n",
              "neutral_venue                          0\n",
              "team1              Kolkata Knight Riders\n",
              "team2                    Kings XI Punjab\n",
              "toss_winner              Kings XI Punjab\n",
              "toss_decision                        bat\n",
              "winner             Kolkata Knight Riders\n",
              "result                           wickets\n",
              "result_margin                          1\n",
              "eliminator                             N\n",
              "dl_applied                           NaN\n",
              "umpire1                     AK Chaudhary\n",
              "umpire2                  HDPK Dharmasena\n",
              "season                              2015\n",
              "Name: 500, dtype: object"
            ]
          },
          "metadata": {
            "tags": []
          },
          "execution_count": 20
        }
      ]
    },
    {
      "cell_type": "code",
      "metadata": {
        "id": "VmufiUtiiGcd",
        "outputId": "91a0ebee-fbc8-4d77-b215-c93834104ad4"
      },
      "source": [
        "# Matches where D/L method was and wasn't applied\n",
        "matches['dl_applied'].value_counts()"
      ],
      "execution_count": null,
      "outputs": [
        {
          "output_type": "execute_result",
          "data": {
            "text/plain": [
              "D/L    19\n",
              "Name: dl_applied, dtype: int64"
            ]
          },
          "metadata": {
            "tags": []
          },
          "execution_count": 71
        }
      ]
    },
    {
      "cell_type": "code",
      "metadata": {
        "id": "D5O-7bKUiGcf",
        "outputId": "3a23c3dd-5c41-4caa-bc84-7c0ba4b572dd"
      },
      "source": [
        "round(matches['dl_applied'].value_counts()/matches['id'].count()*100, 2)"
      ],
      "execution_count": null,
      "outputs": [
        {
          "output_type": "execute_result",
          "data": {
            "text/plain": [
              "D/L    2.33\n",
              "Name: dl_applied, dtype: float64"
            ]
          },
          "metadata": {
            "tags": []
          },
          "execution_count": 72
        }
      ]
    },
    {
      "cell_type": "code",
      "metadata": {
        "scrolled": false,
        "id": "lDwm6BZGiGcg",
        "outputId": "63c8e00e-acda-437f-bce0-c88970989da0"
      },
      "source": [
        "plt.rcParams['figure.figsize']=10,6\n",
        "\n",
        "sns.countplot(y='city', data=matches)\n",
        "plt.title('No. of matches held in each city\\n')\n",
        "plt.xlabel('\\nNo. of matches held')\n",
        "plt.ylabel('Cities\\n')\n",
        "plt.xlim([0,120])\n",
        "plt.show()"
      ],
      "execution_count": null,
      "outputs": [
        {
          "output_type": "display_data",
          "data": {
            "image/png": "[encoded data removed]",
            "text/plain": [
              "<Figure size 720x432 with 1 Axes>"
            ]
          },
          "metadata": {
            "tags": [],
            "needs_background": "light"
          }
        }
      ]
    },
    {
      "cell_type": "code",
      "metadata": {
        "id": "UVRTDWKdiGch"
      },
      "source": [
        "matches[\"winner\"].replace({\"Rising Pune Supergiant\": \"Rising Pune Supergiants\"}, inplace=True)\n",
        "matches[\"team1\"].replace({\"Rising Pune Supergiant\": \"Rising Pune Supergiants\"}, inplace=True)\n",
        "matches[\"team2\"].replace({\"Rising Pune Supergiant\": \"Rising Pune Supergiants\"}, inplace=True)\n",
        "matches[\"toss_winner\"].replace({\"Rising Pune Supergiant\": \"Rising Pune Supergiants\"}, inplace=True)"
      ],
      "execution_count": null,
      "outputs": []
    },
    {
      "cell_type": "code",
      "metadata": {
        "id": "Vv8KD814iGci",
        "outputId": "a32f6a4d-04b8-4be9-b28b-84ad17b0ea52"
      },
      "source": [
        "matches['winner'].value_counts()"
      ],
      "execution_count": null,
      "outputs": [
        {
          "output_type": "execute_result",
          "data": {
            "text/plain": [
              "Mumbai Indians                 120\n",
              "Chennai Super Kings            106\n",
              "Kolkata Knight Riders           99\n",
              "Royal Challengers Bangalore     91\n",
              "Kings XI Punjab                 88\n",
              "Rajasthan Royals                81\n",
              "Delhi Daredevils                67\n",
              "Sunrisers Hyderabad             66\n",
              "Deccan Chargers                 29\n",
              "Delhi Capitals                  19\n",
              "Rising Pune Supergiants         15\n",
              "Gujarat Lions                   13\n",
              "Pune Warriors                   12\n",
              "Kochi Tuskers Kerala             6\n",
              "Name: winner, dtype: int64"
            ]
          },
          "metadata": {
            "tags": []
          },
          "execution_count": 51
        }
      ]
    },
    {
      "cell_type": "code",
      "metadata": {
        "id": "0QpzDAaaiGcj",
        "outputId": "743e18c6-19a6-4bfc-cbc8-b2286cf6e41c"
      },
      "source": [
        "data=matches['winner'].value_counts()\n",
        "fig, ax=plt.subplots()\n",
        "ax.set_xlim([0,120])\n",
        "sns.barplot(y=data.index, x=data, orient='h')\n",
        "plt.title('No. of matches won by each team\\n')\n",
        "plt.xlabel(\"\\nNo. of matches won\")\n",
        "plt.ylabel('Teams\\n')\n",
        "plt.show()"
      ],
      "execution_count": null,
      "outputs": [
        {
          "output_type": "display_data",
          "data": {
            "image/png": "[encoded data removed]",
            "text/plain": [
              "<Figure size 720x432 with 1 Axes>"
            ]
          },
          "metadata": {
            "tags": [],
            "needs_background": "light"
          }
        }
      ]
    },
    {
      "cell_type": "code",
      "metadata": {
        "id": "4V0EfJwkiGck",
        "outputId": "6ba3cdd3-4a2e-4ce6-ed6e-1c9deb73073a"
      },
      "source": [
        "matches['date'] = pd.to_datetime(matches['date'])\n",
        "\n",
        "sns.countplot(x=matches['date'].dt.year, data=matches)\n",
        "plt.title('No. of matches held every season\\n')\n",
        "plt.xlabel('\\nSeason')\n",
        "plt.ylabel('No. of matches held\\n')\n",
        "plt.show()"
      ],
      "execution_count": null,
      "outputs": [
        {
          "output_type": "display_data",
          "data": {
            "image/png": "[encoded data removed]",
            "text/plain": [
              "<Figure size 720x432 with 1 Axes>"
            ]
          },
          "metadata": {
            "tags": [],
            "needs_background": "light"
          }
        }
      ]
    },
    {
      "cell_type": "code",
      "metadata": {
        "id": "8q3oP35giGcl",
        "outputId": "74036bb4-619a-44db-9b1d-c3b0b98b90c8"
      },
      "source": [
        "ManOfMatch=matches['player_of_match'].value_counts()[:10]\n",
        "ManOfMatch"
      ],
      "execution_count": null,
      "outputs": [
        {
          "output_type": "execute_result",
          "data": {
            "text/plain": [
              "AB de Villiers    23\n",
              "CH Gayle          22\n",
              "RG Sharma         18\n",
              "DA Warner         17\n",
              "MS Dhoni          17\n",
              "YK Pathan         16\n",
              "SR Watson         16\n",
              "SK Raina          14\n",
              "V Kohli           13\n",
              "G Gambhir         13\n",
              "Name: player_of_match, dtype: int64"
            ]
          },
          "metadata": {
            "tags": []
          },
          "execution_count": 28
        }
      ]
    },
    {
      "cell_type": "code",
      "metadata": {
        "id": "Tq-LIydhiGcm",
        "outputId": "6dd59132-a56a-416c-b176-64782742d211"
      },
      "source": [
        "fig, ax=plt.subplots()\n",
        "ax.set_ylim([0,28])\n",
        "ax.set_title('Top 10 players based on no. of ManOfMatch awards won\\n')\n",
        "sns.barplot(x=ManOfMatch.index, y=ManOfMatch, orient='v')\n",
        "plt.ylabel('No. of ManOfMatch awards won\\n')\n",
        "plt.xlabel('\\nPlayers')\n",
        "plt.show()"
      ],
      "execution_count": null,
      "outputs": [
        {
          "output_type": "display_data",
          "data": {
            "image/png": "[encoded data removed]",
            "text/plain": [
              "<Figure size 720x432 with 1 Axes>"
            ]
          },
          "metadata": {
            "tags": [],
            "needs_background": "light"
          }
        }
      ]
    },
    {
      "cell_type": "code",
      "metadata": {
        "id": "8RAkHh7aiGco",
        "outputId": "b4887601-4c31-463b-a214-45e90f89edbf"
      },
      "source": [
        "\n",
        "# Does winning the toss mean winning the match?\n",
        "winnerwinner=matches['toss_winner']== matches['winner']\n",
        "winnerwinner.groupby(winnerwinner).size()"
      ],
      "execution_count": null,
      "outputs": [
        {
          "output_type": "execute_result",
          "data": {
            "text/plain": [
              "False    398\n",
              "True     418\n",
              "dtype: int64"
            ]
          },
          "metadata": {
            "tags": []
          },
          "execution_count": 30
        }
      ]
    },
    {
      "cell_type": "code",
      "metadata": {
        "id": "XzMAz24-iGcp",
        "outputId": "20462974-2214-460a-e6c5-23972e1df404"
      },
      "source": [
        "x_labels = ['False','True'] \n",
        "ax = winnerwinner.groupby(winnerwinner).size().plot(kind='bar')\n",
        "ax.set_title('Does winning the toss mean winning the match')\n",
        "ax.set_xlabel('Result')\n",
        "ax.set_ylabel('Matches')\n",
        "ax.set_xticklabels(x_labels)\n",
        "ax.get_children()\n",
        "ax.get_children()[0].set_color('r')"
      ],
      "execution_count": null,
      "outputs": [
        {
          "output_type": "display_data",
          "data": {
            "image/png": "[encoded data removed]",
            "text/plain": [
              "<Figure size 720x432 with 1 Axes>"
            ]
          },
          "metadata": {
            "tags": [],
            "needs_background": "light"
          }
        }
      ]
    },
    {
      "cell_type": "code",
      "metadata": {
        "id": "93MO82SWiGcq",
        "outputId": "4df8e31c-7e58-4c27-defe-565eca5b3b28"
      },
      "source": [
        "# % of games where the toss winning team lost the match (indicated by false) and toss winning team won the match(indicated by true)\n",
        "round(winnerwinner.groupby(winnerwinner).size() / winnerwinner.count() * 100,2)"
      ],
      "execution_count": null,
      "outputs": [
        {
          "output_type": "execute_result",
          "data": {
            "text/plain": [
              "False    48.77\n",
              "True     51.23\n",
              "dtype: float64"
            ]
          },
          "metadata": {
            "tags": []
          },
          "execution_count": 32
        }
      ]
    },
    {
      "cell_type": "code",
      "metadata": {
        "id": "p2Ub-KHfiGcr",
        "outputId": "7e62c427-1d33-402f-8dfd-d3de74e6c5ca"
      },
      "source": [
        "# % of games where the toss winning team lost the match (indicated by false) and toss winning team won the match(indicated by true)\n",
        "labels = ['False','True']\n",
        "\n",
        "plt.pie(winnerwinner.groupby(winnerwinner).size(),labels=labels,shadow=True, startangle=90)"
      ],
      "execution_count": null,
      "outputs": [
        {
          "output_type": "execute_result",
          "data": {
            "text/plain": [
              "([<matplotlib.patches.Wedge at 0x21e1dd08130>,\n",
              "  <matplotlib.patches.Wedge at 0x21e1dd08820>],\n",
              " [Text(-1.0991848680938299, 0.04233941135100722, 'False'),\n",
              "  Text(1.09918486809383, -0.04233941135100686, 'True')])"
            ]
          },
          "metadata": {
            "tags": []
          },
          "execution_count": 33
        },
        {
          "output_type": "display_data",
          "data": {
            "image/png": "[encoded data removed]",
            "text/plain": [
              "<Figure size 720x432 with 1 Axes>"
            ]
          },
          "metadata": {
            "tags": []
          }
        }
      ]
    },
    {
      "cell_type": "code",
      "metadata": {
        "id": "-kB3kZQqiGcs",
        "outputId": "e7e29b16-5e36-4701-a06d-6b67c6846996"
      },
      "source": [
        "matches['toss_decision'].value_counts()\n"
      ],
      "execution_count": null,
      "outputs": [
        {
          "output_type": "execute_result",
          "data": {
            "text/plain": [
              "field    496\n",
              "bat      320\n",
              "Name: toss_decision, dtype: int64"
            ]
          },
          "metadata": {
            "tags": []
          },
          "execution_count": 34
        }
      ]
    },
    {
      "cell_type": "code",
      "metadata": {
        "id": "OwGVnDBKiGcw",
        "outputId": "4628ac93-859a-4c80-dd41-3293a083a9c7"
      },
      "source": [
        "sns.countplot(x=matches['toss_decision'], data=matches)\n",
        "plt.title('Toss Decisions\\n')\n",
        "plt.xlabel('\\nDecision Taken')\n",
        "plt.ylabel('No. of matches held\\n')\n",
        "plt.show()"
      ],
      "execution_count": null,
      "outputs": [
        {
          "output_type": "display_data",
          "data": {
            "image/png": "[encoded data removed]",
            "text/plain": [
              "<Figure size 720x432 with 1 Axes>"
            ]
          },
          "metadata": {
            "tags": [],
            "needs_background": "light"
          }
        }
      ]
    },
    {
      "cell_type": "code",
      "metadata": {
        "id": "KDOw2kWmiGcx",
        "outputId": "5c7cc4f4-4628-4a32-9415-6e19a54bede1"
      },
      "source": [
        "\n",
        "# % of matches where the toss winning team's captain chose fielding and batting\n",
        "round(matches['toss_decision'].value_counts()/matches['toss_decision'].count()*100, 2)"
      ],
      "execution_count": null,
      "outputs": [
        {
          "output_type": "execute_result",
          "data": {
            "text/plain": [
              "field    60.78\n",
              "bat      39.22\n",
              "Name: toss_decision, dtype: float64"
            ]
          },
          "metadata": {
            "tags": []
          },
          "execution_count": 36
        }
      ]
    },
    {
      "cell_type": "code",
      "metadata": {
        "id": "1y0xqyPtiGcy",
        "outputId": "a856e11b-0c39-4c3c-bd0a-3d10c0320aac"
      },
      "source": [
        "#Decision Taken By toss winning captains\n",
        "lbl=['Field','Bat']\n",
        "plt.pie(round(matches['toss_decision'].value_counts()/matches['toss_decision'].count()*100, 2),labels=lbl,shadow=True, startangle=90)"
      ],
      "execution_count": null,
      "outputs": [
        {
          "output_type": "execute_result",
          "data": {
            "text/plain": [
              "([<matplotlib.patches.Wedge at 0x21e1dd976a0>,\n",
              "  <matplotlib.patches.Wedge at 0x21e1dd97d90>],\n",
              " [Text(-1.0375194051868581, -0.365449700862798, 'Field'),\n",
              "  Text(1.0375193709709831, 0.36544979800237354, 'Bat')])"
            ]
          },
          "metadata": {
            "tags": []
          },
          "execution_count": 37
        },
        {
          "output_type": "display_data",
          "data": {
            "image/png": "[encoded data removed]",
            "text/plain": [
              "<Figure size 720x432 with 1 Axes>"
            ]
          },
          "metadata": {
            "tags": []
          }
        }
      ]
    },
    {
      "cell_type": "code",
      "metadata": {
        "id": "SyNNoeDTiGcz",
        "outputId": "533cf471-c194-46df-fb28-c6f53b6636a9"
      },
      "source": [
        "## Stadiums which have hosted D/L method applied matches \n",
        "matches.query('dl_applied==\"D/L\"')['venue']\n"
      ],
      "execution_count": null,
      "outputs": [
        {
          "output_type": "execute_result",
          "data": {
            "text/plain": [
              "40                                      Feroz Shah Kotla\n",
              "43                                          Eden Gardens\n",
              "60                                              Newlands\n",
              "63                                             Kingsmead\n",
              "89                                       SuperSport Park\n",
              "192                                        Nehru Stadium\n",
              "221                                         Eden Gardens\n",
              "231                                M Chinnaswamy Stadium\n",
              "429                                     Feroz Shah Kotla\n",
              "477    Dr. Y.S. Rajasekhara Reddy ACA-VDCA Cricket St...\n",
              "508            Rajiv Gandhi International Stadium, Uppal\n",
              "538            Rajiv Gandhi International Stadium, Uppal\n",
              "561                                         Eden Gardens\n",
              "565    Dr. Y.S. Rajasekhara Reddy ACA-VDCA Cricket St...\n",
              "566                                M Chinnaswamy Stadium\n",
              "633                                M Chinnaswamy Stadium\n",
              "641                               Sawai Mansingh Stadium\n",
              "653                                         Eden Gardens\n",
              "667                                     Feroz Shah Kotla\n",
              "Name: venue, dtype: object"
            ]
          },
          "metadata": {
            "tags": []
          },
          "execution_count": 79
        }
      ]
    },
    {
      "cell_type": "code",
      "metadata": {
        "id": "Mlb3yiVAiGc0",
        "outputId": "2b7604d2-ddcf-45e5-cda9-eb07af5eba53"
      },
      "source": [
        "# Cities which have witnessed D/L method applied matches\n",
        "matches.query('dl_applied==\"D/L\"')['city']"
      ],
      "execution_count": null,
      "outputs": [
        {
          "output_type": "execute_result",
          "data": {
            "text/plain": [
              "40             Delhi\n",
              "43           Kolkata\n",
              "60         Cape Town\n",
              "63            Durban\n",
              "89         Centurion\n",
              "192            Kochi\n",
              "221          Kolkata\n",
              "231        Bangalore\n",
              "429            Delhi\n",
              "477    Visakhapatnam\n",
              "508        Hyderabad\n",
              "538        Hyderabad\n",
              "561          Kolkata\n",
              "565    Visakhapatnam\n",
              "566        Bangalore\n",
              "633        Bangalore\n",
              "641           Jaipur\n",
              "653          Kolkata\n",
              "667            Delhi\n",
              "Name: city, dtype: object"
            ]
          },
          "metadata": {
            "tags": []
          },
          "execution_count": 80
        }
      ]
    },
    {
      "cell_type": "code",
      "metadata": {
        "id": "m1hO3c8liGc1",
        "outputId": "9c66fc27-fa0c-45f2-cbc8-3780caefb3f3"
      },
      "source": [
        "# Seasons with D/L method applied matches\n",
        "matches['date'] = pd.to_datetime(matches['date'])\n",
        "\n",
        "matches['season'] = matches['date'].dt.year\n",
        "\n",
        "# Seasons with D/L method applied matches\n",
        "year=matches.query('dl_applied==\"D/L\"')['season']\n",
        "year"
      ],
      "execution_count": null,
      "outputs": [
        {
          "output_type": "execute_result",
          "data": {
            "text/plain": [
              "40     2008\n",
              "43     2008\n",
              "60     2009\n",
              "63     2009\n",
              "89     2009\n",
              "192    2011\n",
              "221    2011\n",
              "231    2011\n",
              "429    2014\n",
              "477    2015\n",
              "508    2015\n",
              "538    2016\n",
              "561    2016\n",
              "565    2016\n",
              "566    2016\n",
              "633    2017\n",
              "641    2018\n",
              "653    2018\n",
              "667    2018\n",
              "Name: season, dtype: int64"
            ]
          },
          "metadata": {
            "tags": []
          },
          "execution_count": 81
        }
      ]
    },
    {
      "cell_type": "code",
      "metadata": {
        "id": "BNPfSG8LiGc2",
        "outputId": "433a68d1-6f89-4794-e434-52e1e7331139"
      },
      "source": [
        "# Plot to visualise the no. of matches where D/L method was applied season wise\n",
        "fig, ax=plt.subplots()\n",
        "ax.set_ylim([0,5])\n",
        "ax.set_title('No. of matches where D/L method was applied, season wise\\n')\n",
        "sns.countplot(x=year, data=matches)\n",
        "plt.xlabel('\\nSeason')\n",
        "plt.ylabel('No. of matches\\n')\n",
        "plt.show()"
      ],
      "execution_count": null,
      "outputs": [
        {
          "output_type": "display_data",
          "data": {
            "image/png": "[encoded data removed]",
            "text/plain": [
              "<Figure size 720x432 with 1 Axes>"
            ]
          },
          "metadata": {
            "tags": [],
            "needs_background": "light"
          }
        }
      ]
    },
    {
      "cell_type": "code",
      "metadata": {
        "id": "6KBCvE7liGc4",
        "outputId": "2142cef2-1f76-4d62-895a-18b5127016ce"
      },
      "source": [
        "# How many times did each team win the toss?\n",
        "matches['toss_winner'].value_counts()"
      ],
      "execution_count": null,
      "outputs": [
        {
          "output_type": "execute_result",
          "data": {
            "text/plain": [
              "Mumbai Indians                 106\n",
              "Kolkata Knight Riders           98\n",
              "Chennai Super Kings             97\n",
              "Royal Challengers Bangalore     87\n",
              "Rajasthan Royals                87\n",
              "Kings XI Punjab                 85\n",
              "Delhi Daredevils                80\n",
              "Sunrisers Hyderabad             57\n",
              "Deccan Chargers                 43\n",
              "Delhi Capitals                  20\n",
              "Pune Warriors                   20\n",
              "Gujarat Lions                   15\n",
              "Rising Pune Supergiants         13\n",
              "Kochi Tuskers Kerala             8\n",
              "Name: toss_winner, dtype: int64"
            ]
          },
          "metadata": {
            "tags": []
          },
          "execution_count": 83
        }
      ]
    },
    {
      "cell_type": "code",
      "metadata": {
        "id": "DNOf-ThMiGc6",
        "outputId": "daab3c38-b4ff-43db-f55c-37d5c9322f5b"
      },
      "source": [
        "# Plot to visualise the no. of tosses won by each team\n",
        "toss=matches['toss_winner'].value_counts()\n",
        "fig, ax=plt.subplots()\n",
        "ax.set_title('No. of tosses won by each team\\n')\n",
        "sns.barplot(y=toss.index, x=toss, orient='h')\n",
        "plt.xlabel('\\nNo. of tosses won')\n",
        "plt.ylabel('Teams\\n')\n",
        "plt.show()"
      ],
      "execution_count": null,
      "outputs": [
        {
          "output_type": "display_data",
          "data": {
            "image/png": "[encoded data removed]",
            "text/plain": [
              "<Figure size 720x432 with 1 Axes>"
            ]
          },
          "metadata": {
            "tags": [],
            "needs_background": "light"
          }
        }
      ]
    },
    {
      "cell_type": "code",
      "metadata": {
        "id": "rCA-2lwGiGc7",
        "outputId": "c30a1400-5efe-4520-97f0-ed74cbf42458"
      },
      "source": [
        "# Best venue for defending your total\n",
        "matches.venue[(matches.result=='runs') & (matches.result_margin!=0)].mode()"
      ],
      "execution_count": null,
      "outputs": [
        {
          "output_type": "execute_result",
          "data": {
            "text/plain": [
              "0    Feroz Shah Kotla\n",
              "1    Wankhede Stadium\n",
              "dtype: object"
            ]
          },
          "metadata": {
            "tags": []
          },
          "execution_count": 85
        }
      ]
    },
    {
      "cell_type": "code",
      "metadata": {
        "id": "Cap7in5riGc8",
        "outputId": "e93da284-7a57-40da-e06a-e13cf34b5ceb"
      },
      "source": [
        "# Best venue to chase a total\n",
        "matches.venue[(matches.result=='wickets') & (matches.result_margin!=0)].mode()"
      ],
      "execution_count": null,
      "outputs": [
        {
          "output_type": "execute_result",
          "data": {
            "text/plain": [
              "0    Eden Gardens\n",
              "dtype: object"
            ]
          },
          "metadata": {
            "tags": []
          },
          "execution_count": 86
        }
      ]
    },
    {
      "cell_type": "code",
      "metadata": {
        "id": "8KiwlQegiGc9",
        "outputId": "212bbd1f-309b-4bdc-e156-ea61ffeef14d"
      },
      "source": [
        "# Best defending team\n",
        "matches.winner[(matches.result=='runs') & (matches.result_margin!=0)].mode()"
      ],
      "execution_count": null,
      "outputs": [
        {
          "output_type": "execute_result",
          "data": {
            "text/plain": [
              "0    Mumbai Indians\n",
              "dtype: object"
            ]
          },
          "metadata": {
            "tags": []
          },
          "execution_count": 87
        }
      ]
    },
    {
      "cell_type": "code",
      "metadata": {
        "id": "fNqkzfyUiGc-",
        "outputId": "1bf14133-7484-483b-88cd-90c08c6b71d4"
      },
      "source": [
        "# Best chasing team\n",
        "matches.winner[(matches.result=='wickets') & (matches.result_margin!=0)].mode()"
      ],
      "execution_count": null,
      "outputs": [
        {
          "output_type": "execute_result",
          "data": {
            "text/plain": [
              "0    Kolkata Knight Riders\n",
              "dtype: object"
            ]
          },
          "metadata": {
            "tags": []
          },
          "execution_count": 88
        }
      ]
    },
    {
      "cell_type": "code",
      "metadata": {
        "id": "773fL5eXiGc_",
        "outputId": "42818ae0-e7b7-4db2-fe3f-932c3c2a7f3e"
      },
      "source": [
        "# No. of matches played in different stadiums\n",
        "sns.countplot(y='venue', data=matches)\n",
        "plt.title('No. of matches played in different stadiums\\n')\n",
        "plt.xlabel('\\nNo. of matches played')\n",
        "plt.ylabel('Stadiums\\n')\n",
        "plt.show()"
      ],
      "execution_count": null,
      "outputs": [
        {
          "output_type": "display_data",
          "data": {
            "image/png": "[encoded data removed]",
            "text/plain": [
              "<Figure size 720x432 with 1 Axes>"
            ]
          },
          "metadata": {
            "tags": [],
            "needs_background": "light"
          }
        }
      ]
    },
    {
      "cell_type": "code",
      "metadata": {
        "id": "kW8lI0yqiGdA",
        "outputId": "b874a20b-85dd-47da-f917-155313d867eb"
      },
      "source": [
        "sns.pairplot(matches)"
      ],
      "execution_count": null,
      "outputs": [
        {
          "output_type": "execute_result",
          "data": {
            "text/plain": [
              "<seaborn.axisgrid.PairGrid at 0x21e212c8400>"
            ]
          },
          "metadata": {
            "tags": []
          },
          "execution_count": 94
        },
        {
          "output_type": "display_data",
          "data": {
            "image/png": "[encoded data removed]",
            "text/plain": [
              "<Figure size 720x720 with 20 Axes>"
            ]
          },
          "metadata": {
            "tags": [],
            "needs_background": "light"
          }
        }
      ]
    },
    {
      "cell_type": "code",
      "metadata": {
        "scrolled": false,
        "id": "TBojjjT-iGdB",
        "outputId": "62d02860-196a-481a-cc3b-4e4f1e10df73"
      },
      "source": [
        "sns.distplot(matches['result_margin'])"
      ],
      "execution_count": null,
      "outputs": [
        {
          "output_type": "execute_result",
          "data": {
            "text/plain": [
              "<matplotlib.axes._subplots.AxesSubplot at 0x21e239b8b20>"
            ]
          },
          "metadata": {
            "tags": []
          },
          "execution_count": 102
        },
        {
          "output_type": "display_data",
          "data": {
            "image/png": "[encoded data removed]",
            "text/plain": [
              "<Figure size 720x432 with 1 Axes>"
            ]
          },
          "metadata": {
            "tags": [],
            "needs_background": "light"
          }
        }
      ]
    },
    {
      "cell_type": "code",
      "metadata": {
        "id": "wMBv1rjEiGdC",
        "outputId": "c4c3cf55-c40e-4f9f-c7b0-f203a25c59d6"
      },
      "source": [
        "corr = matches.corr()\n",
        "corr"
      ],
      "execution_count": null,
      "outputs": [
        {
          "output_type": "execute_result",
          "data": {
            "text/html": [
              "<div>\n",
              "<style scoped>\n",
              "    .dataframe tbody tr th:only-of-type {\n",
              "        vertical-align: middle;\n",
              "    }\n",
              "\n",
              "    .dataframe tbody tr th {\n",
              "        vertical-align: top;\n",
              "    }\n",
              "\n",
              "    .dataframe thead th {\n",
              "        text-align: right;\n",
              "    }\n",
              "</style>\n",
              "<table border=\"1\" class=\"dataframe\">\n",
              "  <thead>\n",
              "    <tr style=\"text-align: right;\">\n",
              "      <th></th>\n",
              "      <th>id</th>\n",
              "      <th>neutral_venue</th>\n",
              "      <th>result_margin</th>\n",
              "      <th>season</th>\n",
              "    </tr>\n",
              "  </thead>\n",
              "  <tbody>\n",
              "    <tr>\n",
              "      <th>id</th>\n",
              "      <td>1.000000</td>\n",
              "      <td>-0.292042</td>\n",
              "      <td>-0.010501</td>\n",
              "      <td>0.987786</td>\n",
              "    </tr>\n",
              "    <tr>\n",
              "      <th>neutral_venue</th>\n",
              "      <td>-0.292042</td>\n",
              "      <td>1.000000</td>\n",
              "      <td>-0.006445</td>\n",
              "      <td>-0.319704</td>\n",
              "    </tr>\n",
              "    <tr>\n",
              "      <th>result_margin</th>\n",
              "      <td>-0.010501</td>\n",
              "      <td>-0.006445</td>\n",
              "      <td>1.000000</td>\n",
              "      <td>-0.002171</td>\n",
              "    </tr>\n",
              "    <tr>\n",
              "      <th>season</th>\n",
              "      <td>0.987786</td>\n",
              "      <td>-0.319704</td>\n",
              "      <td>-0.002171</td>\n",
              "      <td>1.000000</td>\n",
              "    </tr>\n",
              "  </tbody>\n",
              "</table>\n",
              "</div>"
            ],
            "text/plain": [
              "                     id  neutral_venue  result_margin    season\n",
              "id             1.000000      -0.292042      -0.010501  0.987786\n",
              "neutral_venue -0.292042       1.000000      -0.006445 -0.319704\n",
              "result_margin -0.010501      -0.006445       1.000000 -0.002171\n",
              "season         0.987786      -0.319704      -0.002171  1.000000"
            ]
          },
          "metadata": {
            "tags": []
          },
          "execution_count": 103
        }
      ]
    },
    {
      "cell_type": "code",
      "metadata": {
        "id": "s1C7NhZCiGdD",
        "outputId": "9ab17c50-04e0-41be-b8b6-46e0b362deb7"
      },
      "source": [
        "sns.heatmap(corr,annot=True)"
      ],
      "execution_count": null,
      "outputs": [
        {
          "output_type": "execute_result",
          "data": {
            "text/plain": [
              "<matplotlib.axes._subplots.AxesSubplot at 0x21e239182b0>"
            ]
          },
          "metadata": {
            "tags": []
          },
          "execution_count": 104
        },
        {
          "output_type": "display_data",
          "data": {
            "image/png": "[encoded data removed]",
            "text/plain": [
              "<Figure size 720x432 with 2 Axes>"
            ]
          },
          "metadata": {
            "tags": [],
            "needs_background": "light"
          }
        }
      ]
    },
    {
      "cell_type": "code",
      "metadata": {
        "colab": {
          "base_uri": "https://localhost:8080/",
          "height": 296
        },
        "id": "LRnx_P_PiGdE",
        "outputId": "9e955779-8deb-4f82-d054-81ac177384a7"
      },
      "source": [
        "sns.regplot(x='id', y='season', data=matches)\n",
        "plt.xlabel('Year')"
      ],
      "execution_count": null,
      "outputs": [
        {
          "output_type": "execute_result",
          "data": {
            "text/plain": [
              "Text(0.5, 0, 'Year')"
            ]
          },
          "metadata": {
            "tags": []
          },
          "execution_count": 20
        },
        {
          "output_type": "display_data",
          "data": {
            "image/png": "[encoded data removed]",
            "text/plain": [
              "<Figure size 432x288 with 1 Axes>"
            ]
          },
          "metadata": {
            "tags": [],
            "needs_background": "light"
          }
        }
      ]
    },
    {
      "cell_type": "code",
      "metadata": {
        "id": "XDhg4cdvka51"
      },
      "source": [
        ""
      ],
      "execution_count": null,
      "outputs": []
    }
  ]
}